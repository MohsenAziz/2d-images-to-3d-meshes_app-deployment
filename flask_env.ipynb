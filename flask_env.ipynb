{
 "cells": [
  {
   "cell_type": "code",
   "execution_count": 1,
   "id": "a28a9f21",
   "metadata": {},
   "outputs": [],
   "source": [
    "#unhash this line befor running the project to equip your environment with the required libraries.\n",
    "#!pip install -r requirements.txt"
   ]
  },
  {
   "cell_type": "code",
   "execution_count": 2,
   "id": "34b1e6e7",
   "metadata": {},
   "outputs": [],
   "source": [
    "import flask"
   ]
  },
  {
   "cell_type": "code",
   "execution_count": 3,
   "id": "50906662",
   "metadata": {},
   "outputs": [
    {
     "data": {
      "text/plain": [
       "'2.0.2'"
      ]
     },
     "execution_count": 3,
     "metadata": {},
     "output_type": "execute_result"
    }
   ],
   "source": [
    "flask.__version__"
   ]
  },
  {
   "cell_type": "code",
   "execution_count": 4,
   "id": "8c05f044",
   "metadata": {},
   "outputs": [],
   "source": [
    "!set FLASK_APP=app.py"
   ]
  },
  {
   "cell_type": "code",
   "execution_count": null,
   "id": "8c2972da",
   "metadata": {},
   "outputs": [
    {
     "name": "stdout",
     "output_type": "stream",
     "text": [
      " * Environment: production\n",
      "\u001b[31m   WARNING: This is a development server. Do not use it in a production deployment.\u001b[0m\n",
      "\u001b[2m   Use a production WSGI server instead.\u001b[0m\n",
      " * Debug mode: off\n",
      " * Running on http://127.0.0.1:5000/ (Press CTRL+C to quit)\n",
      "127.0.0.1 - - [08/Jan/2022 12:16:38] \"GET / HTTP/1.1\" 200 -\n",
      "127.0.0.1 - - [08/Jan/2022 12:16:38] \"\u001b[36mGET /static/css/materialize.css HTTP/1.1\u001b[0m\" 304 -\n",
      "127.0.0.1 - - [08/Jan/2022 12:16:39] \"\u001b[36mGET /static/images/white_bg.jpg HTTP/1.1\u001b[0m\" 304 -\n",
      "127.0.0.1 - - [08/Jan/2022 12:16:39] \"\u001b[36mGET /static/js/materialize.js HTTP/1.1\u001b[0m\" 304 -\n",
      "Weight format of PointRend models have changed! Applying automatic conversion now ...\n",
      "/home/ec2-user/project_copy2/external/detectron2/detectron2/structures/image_list.py:88: UserWarning: __floordiv__ is deprecated, and its behavior will change in a future version of pytorch. It currently rounds toward 0 (like the 'trunc' function NOT 'floor'). This results in incorrect rounding for negative values. To keep the current behavior, use torch.div(a, b, rounding_mode='trunc'), or for actual floor division, use torch.div(a, b, rounding_mode='floor').\n",
      "  max_size = (max_size + (stride - 1)) // stride * stride\n",
      "/home/ec2-user/anaconda3/envs/pytorch_latest_p37/lib/python3.7/site-packages/torch/functional.py:445: UserWarning: torch.meshgrid: in an upcoming release, it will be required to pass the indexing argument. (Triggered internally at  ../aten/src/ATen/native/TensorShape.cpp:2157.)\n",
      "  return _VF.meshgrid(tensors, **kwargs)  # type: ignore[attr-defined]\n",
      "./external/detectron2/projects/PointRend/point_rend/point_features.py:142: UserWarning: __floordiv__ is deprecated, and its behavior will change in a future version of pytorch. It currently rounds toward 0 (like the 'trunc' function NOT 'floor'). This results in incorrect rounding for negative values. To keep the current behavior, use torch.div(a, b, rounding_mode='trunc'), or for actual floor division, use torch.div(a, b, rounding_mode='floor').\n",
      "  point_coords[:, :, 1] = h_step / 2.0 + (point_indices // W).to(torch.float) * h_step\n",
      "WARNING: You are using a SMPL model, with only 10 shape coefficients.\n",
      "loss: 1.22e+03: 100%|███████████████████████████| 8/8.0 [00:13<00:00,  1.75s/it]\n",
      "Figure(1000x400)\n",
      "Loss 13.4862:  73%|████████████████████▍       | 73/100 [01:14<00:27,  1.02s/it]"
     ]
    }
   ],
   "source": [
    "!flask run"
   ]
  },
  {
   "cell_type": "code",
   "execution_count": null,
   "id": "6044c019",
   "metadata": {},
   "outputs": [],
   "source": [
    "#!flask run --host=0.0.0.0 "
   ]
  },
  {
   "cell_type": "code",
   "execution_count": null,
   "id": "cc1d8f07",
   "metadata": {},
   "outputs": [],
   "source": []
  }
 ],
 "metadata": {
  "kernelspec": {
   "display_name": "Environment (conda_pytorch_latest_p37)",
   "language": "python",
   "name": "conda_pytorch_latest_p37"
  },
  "language_info": {
   "codemirror_mode": {
    "name": "ipython",
    "version": 3
   },
   "file_extension": ".py",
   "mimetype": "text/x-python",
   "name": "python",
   "nbconvert_exporter": "python",
   "pygments_lexer": "ipython3",
   "version": "3.7.12"
  }
 },
 "nbformat": 4,
 "nbformat_minor": 5
}
