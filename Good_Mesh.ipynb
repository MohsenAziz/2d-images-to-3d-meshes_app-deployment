{
 "cells": [
  {
   "cell_type": "markdown",
   "metadata": {
    "id": "pSiNonG8LZe4"
   },
   "source": [
    "# PHOSA Demo Notebook\n",
    "\n",
    "Demo notebook for \"Perceiving 3D Human-Object Spatial Arrangements from a Single Image in the Wild\"\n",
    "\n",
    "Project webpage: https://jasonyzhang.com/phosa/\n",
    "\n",
    "Github repo: https://github.com/facebookresearch/phosa\n",
    "\n",
    "\n",
    "## Directions: \n",
    "1. Turn on GPU (Runtime > Change Runtime Type > GPU)\n",
    "2. Downgrade Pytorch version to 1.4.0 [2.5 minutes]\n",
    "3. Restart Runtime (Runtime > Restart Runtime) \n",
    "4. Clone PHOSA\n",
    "5. Install NMR, detectron2, FrankMocap [2 minutes]\n",
    "6. Restart Runtime\n",
    "7. Run PHOSA!\n",
    "\n"
   ]
  },
  {
   "cell_type": "markdown",
   "metadata": {
    "id": "DglfFLcKDoJ5"
   },
   "source": [
    "### Step 1: Turn on GPU\n",
    "\n",
    "### Step 2: Downgrade Pytorch"
   ]
  },
  {
   "cell_type": "code",
   "execution_count": null,
   "metadata": {
    "id": "AK_ryDQGKZyl"
   },
   "outputs": [],
   "source": [
    "# Downgrade Pytorch to 1.4.0 for NMR.\n",
    "#!pip install -f https://download.pytorch.org/whl/torch_stable.html torch===1.4.0 torchvision===0.5.0\n"
   ]
  },
  {
   "cell_type": "code",
   "execution_count": 2,
   "metadata": {
    "colab": {
     "base_uri": "https://localhost:8080/",
     "height": 35
    },
    "id": "F5G-kvIp_KMO",
    "outputId": "ba657b35-7419-48ba-95a4-0f5bba77d0d5"
   },
   "outputs": [
    {
     "ename": "ModuleNotFoundError",
     "evalue": "No module named 'torch'",
     "output_type": "error",
     "traceback": [
      "\u001b[0;31m---------------------------------------------------------------------------\u001b[0m",
      "\u001b[0;31mModuleNotFoundError\u001b[0m                       Traceback (most recent call last)",
      "\u001b[0;32m/tmp/ipykernel_21092/124605286.py\u001b[0m in \u001b[0;36m<module>\u001b[0;34m\u001b[0m\n\u001b[0;32m----> 1\u001b[0;31m \u001b[0;32mimport\u001b[0m \u001b[0mtorch\u001b[0m\u001b[0;34m\u001b[0m\u001b[0;34m\u001b[0m\u001b[0m\n\u001b[0m\u001b[1;32m      2\u001b[0m \u001b[0mtorch\u001b[0m\u001b[0;34m.\u001b[0m\u001b[0m__version__\u001b[0m\u001b[0;34m\u001b[0m\u001b[0;34m\u001b[0m\u001b[0m\n",
      "\u001b[0;31mModuleNotFoundError\u001b[0m: No module named 'torch'"
     ]
    }
   ],
   "source": [
    "#import torch\n",
    "#torch.__version__"
   ]
  },
  {
   "cell_type": "code",
   "execution_count": 2,
   "metadata": {
    "colab": {
     "base_uri": "https://localhost:8080/"
    },
    "id": "2Jeoj_R-_gmS",
    "outputId": "3dcb1d49-467b-446a-e812-ef02062e88b0"
   },
   "outputs": [
    {
     "name": "stdout",
     "output_type": "stream",
     "text": [
      "GPU: Tesla K80\n",
      "VRAM: 12.0GB\n",
      "CC: 3.7\n",
      "nvcc: NVIDIA (R) Cuda compiler driver\n",
      "Copyright (c) 2005-2020 NVIDIA Corporation\n",
      "Built on Mon_Oct_12_20:09:46_PDT_2020\n",
      "Cuda compilation tools, release 11.1, V11.1.105\n",
      "Build cuda_11.1.TC455_06.29190527_0\n"
     ]
    }
   ],
   "source": [
    "# prop = torch.cuda.get_device_properties(0)\n",
    "# print(f\"GPU: {prop.name}\")\n",
    "# print(f\"VRAM: {prop.total_memory / 1e9:.1f}GB\")\n",
    "# print(f\"CC: {prop.major}.{prop.minor}\")\n",
    "# !nvcc --version"
   ]
  },
  {
   "cell_type": "code",
   "execution_count": null,
   "metadata": {},
   "outputs": [],
   "source": [
    "import os; print(os.environ[\"CONDA_PREFIX\"]\n",
    "                 "
   ]
  },
  {
   "cell_type": "markdown",
   "metadata": {
    "id": "r4mJxYwkDuDw"
   },
   "source": [
    "### Step 3: Restart Runtime\n",
    "\n",
    "### Step 4: Download PHOSA"
   ]
  },
  {
   "cell_type": "code",
   "execution_count": 4,
   "metadata": {
    "colab": {
     "base_uri": "https://localhost:8080/",
     "height": 1000
    },
    "id": "poW6ekfh_E2x",
    "outputId": "562219e5-e18c-4e53-8718-fc83e453213d"
   },
   "outputs": [
    {
     "name": "stdout",
     "output_type": "stream",
     "text": [
      "Cloning into 'phosa_repo'...\n",
      "remote: Enumerating objects: 81, done.\u001b[K\n",
      "remote: Counting objects: 100% (81/81), done.\u001b[K\n",
      "remote: Compressing objects: 100% (69/69), done.\u001b[K\n",
      "remote: Total 81 (delta 26), reused 54 (delta 9), pack-reused 0\u001b[K\n",
      "Receiving objects: 100% (81/81), 15.43 MiB | 28.68 MiB/s, done.\n",
      "Resolving deltas: 100% (26/26), done.\n",
      "Looking in indexes: https://pypi.org/simple, https://pip.repos.neuron.amazonaws.com\n",
      "Collecting chumpy\n",
      "  Using cached chumpy-0.70.tar.gz (50 kB)\n",
      "  Preparing metadata (setup.py) ... \u001b[?25ldone\n",
      "\u001b[?25hCollecting fvcore==0.1.1.post20200716\n",
      "  Using cached fvcore-0.1.1.post20200716.tar.gz (33 kB)\n",
      "  Preparing metadata (setup.py) ... \u001b[?25ldone\n",
      "\u001b[?25hCollecting ipdb\n",
      "  Using cached ipdb-0.13.9.tar.gz (16 kB)\n",
      "  Preparing metadata (setup.py) ... \u001b[?25ldone\n",
      "\u001b[?25hCollecting matplotlib\n",
      "  Downloading matplotlib-3.5.1-cp39-cp39-manylinux_2_5_x86_64.manylinux1_x86_64.whl (11.2 MB)\n",
      "     |████████████████████████████████| 11.2 MB 3.5 MB/s            \n",
      "\u001b[?25hRequirement already satisfied: numpy in /home/ec2-user/anaconda3/envs/mesh/lib/python3.9/site-packages (from -r requirements.txt (line 5)) (1.21.2)\n",
      "Collecting opencv-python\n",
      "  Downloading opencv_python-4.5.4.60-cp39-cp39-manylinux_2_17_x86_64.manylinux2014_x86_64.whl (60.3 MB)\n",
      "     |████████████████████████████████| 60.3 MB 147 kB/s             \n",
      "\u001b[?25hCollecting PyYAML==5.4.1\n",
      "  Downloading PyYAML-5.4.1-cp39-cp39-manylinux1_x86_64.whl (630 kB)\n",
      "     |████████████████████████████████| 630 kB 44.5 MB/s            \n",
      "\u001b[?25hCollecting scikit-image\n",
      "  Downloading scikit_image-0.19.1-cp39-cp39-manylinux_2_17_x86_64.manylinux2014_x86_64.whl (13.8 MB)\n",
      "     |████████████████████████████████| 13.8 MB 27.5 MB/s            \n",
      "\u001b[?25hCollecting scipy\n",
      "  Downloading scipy-1.7.3-cp39-cp39-manylinux_2_17_x86_64.manylinux2014_x86_64.whl (39.8 MB)\n",
      "     |████████████████████████████████| 39.8 MB 38.8 MB/s            \n",
      "\u001b[?25hCollecting smplx\n",
      "  Using cached smplx-0.1.28-py3-none-any.whl (29 kB)\n",
      "Collecting tqdm\n",
      "  Downloading tqdm-4.62.3-py2.py3-none-any.whl (76 kB)\n",
      "     |████████████████████████████████| 76 kB 9.4 MB/s             \n",
      "\u001b[?25hCollecting loguru\n",
      "  Using cached loguru-0.5.3-py3-none-any.whl (57 kB)\n",
      "Collecting torchgeometry\n",
      "  Using cached torchgeometry-0.1.2-py2.py3-none-any.whl (42 kB)\n",
      "Collecting yacs>=0.1.6\n",
      "  Using cached yacs-0.1.8-py3-none-any.whl (14 kB)\n",
      "Collecting portalocker\n",
      "  Using cached portalocker-2.3.2-py2.py3-none-any.whl (15 kB)\n",
      "Collecting termcolor>=1.1\n",
      "  Using cached termcolor-1.1.0.tar.gz (3.9 kB)\n",
      "  Preparing metadata (setup.py) ... \u001b[?25ldone\n",
      "\u001b[?25hRequirement already satisfied: Pillow in /home/ec2-user/anaconda3/envs/mesh/lib/python3.9/site-packages (from fvcore==0.1.1.post20200716->-r requirements.txt (line 2)) (8.4.0)\n",
      "Collecting tabulate\n",
      "  Using cached tabulate-0.8.9-py3-none-any.whl (25 kB)\n",
      "Requirement already satisfied: six>=1.11.0 in /home/ec2-user/anaconda3/envs/mesh/lib/python3.9/site-packages (from chumpy->-r requirements.txt (line 1)) (1.16.0)\n",
      "Requirement already satisfied: setuptools in /home/ec2-user/anaconda3/envs/mesh/lib/python3.9/site-packages (from ipdb->-r requirements.txt (line 3)) (60.1.0)\n",
      "Collecting ipython>=7.17.0\n",
      "  Downloading ipython-7.30.1-py3-none-any.whl (791 kB)\n",
      "     |████████████████████████████████| 791 kB 47.0 MB/s            \n",
      "\u001b[?25hCollecting toml>=0.10.2\n",
      "  Using cached toml-0.10.2-py2.py3-none-any.whl (16 kB)\n",
      "Collecting decorator\n",
      "  Downloading decorator-5.1.0-py3-none-any.whl (9.1 kB)\n",
      "Collecting cycler>=0.10\n",
      "  Downloading cycler-0.11.0-py3-none-any.whl (6.4 kB)\n",
      "Collecting packaging>=20.0\n",
      "  Downloading packaging-21.3-py3-none-any.whl (40 kB)\n",
      "     |████████████████████████████████| 40 kB 9.8 MB/s             \n",
      "\u001b[?25hCollecting pyparsing>=2.2.1\n",
      "  Downloading pyparsing-3.0.6-py3-none-any.whl (97 kB)\n",
      "     |████████████████████████████████| 97 kB 14.1 MB/s            \n",
      "\u001b[?25hCollecting python-dateutil>=2.7\n",
      "  Downloading python_dateutil-2.8.2-py2.py3-none-any.whl (247 kB)\n",
      "     |████████████████████████████████| 247 kB 61.8 MB/s            \n",
      "\u001b[?25hCollecting kiwisolver>=1.0.1\n",
      "  Downloading kiwisolver-1.3.2-cp39-cp39-manylinux_2_12_x86_64.manylinux2010_x86_64.whl (1.6 MB)\n",
      "     |████████████████████████████████| 1.6 MB 36.2 MB/s            \n",
      "\u001b[?25hCollecting fonttools>=4.22.0\n",
      "  Downloading fonttools-4.28.5-py3-none-any.whl (890 kB)\n",
      "     |████████████████████████████████| 890 kB 34.7 MB/s            \n",
      "\u001b[?25hCollecting PyWavelets>=1.1.1\n",
      "  Downloading PyWavelets-1.2.0-cp39-cp39-manylinux_2_5_x86_64.manylinux1_x86_64.manylinux_2_12_x86_64.manylinux2010_x86_64.whl (6.6 MB)\n",
      "     |████████████████████████████████| 6.6 MB 16.0 MB/s            \n",
      "\u001b[?25hCollecting networkx>=2.2\n",
      "  Downloading networkx-2.6.3-py3-none-any.whl (1.9 MB)\n",
      "     |████████████████████████████████| 1.9 MB 34.4 MB/s            \n",
      "\u001b[?25hCollecting imageio>=2.4.1\n",
      "  Downloading imageio-2.13.5-py3-none-any.whl (3.3 MB)\n",
      "     |████████████████████████████████| 3.3 MB 31.2 MB/s            \n",
      "\u001b[?25hCollecting tifffile>=2019.7.26\n",
      "  Downloading tifffile-2021.11.2-py3-none-any.whl (178 kB)\n",
      "     |████████████████████████████████| 178 kB 62.0 MB/s            \n",
      "\u001b[?25hRequirement already satisfied: torch>=1.0.1.post2 in /home/ec2-user/anaconda3/envs/mesh/lib/python3.9/site-packages (from smplx->-r requirements.txt (line 10)) (1.10.1)\n",
      "Collecting pickleshare\n",
      "  Downloading pickleshare-0.7.5-py2.py3-none-any.whl (6.9 kB)\n",
      "Collecting backcall\n",
      "  Downloading backcall-0.2.0-py2.py3-none-any.whl (11 kB)\n",
      "Collecting jedi>=0.16\n",
      "  Downloading jedi-0.18.1-py2.py3-none-any.whl (1.6 MB)\n",
      "     |████████████████████████████████| 1.6 MB 29.3 MB/s            \n",
      "\u001b[?25hCollecting traitlets>=4.2\n",
      "  Downloading traitlets-5.1.1-py3-none-any.whl (102 kB)\n",
      "     |████████████████████████████████| 102 kB 11.7 MB/s           \n",
      "\u001b[?25hCollecting pygments\n",
      "  Downloading Pygments-2.10.0-py3-none-any.whl (1.0 MB)\n",
      "     |████████████████████████████████| 1.0 MB 36.1 MB/s            \n",
      "\u001b[?25hCollecting matplotlib-inline\n",
      "  Downloading matplotlib_inline-0.1.3-py3-none-any.whl (8.2 kB)\n",
      "Collecting pexpect>4.3\n",
      "  Downloading pexpect-4.8.0-py2.py3-none-any.whl (59 kB)\n",
      "     |████████████████████████████████| 59 kB 10.0 MB/s            \n",
      "\u001b[?25hCollecting prompt-toolkit!=3.0.0,!=3.0.1,<3.1.0,>=2.0.0\n",
      "  Downloading prompt_toolkit-3.0.24-py3-none-any.whl (374 kB)\n",
      "     |████████████████████████████████| 374 kB 61.3 MB/s            \n",
      "\u001b[?25hRequirement already satisfied: typing_extensions in /home/ec2-user/anaconda3/envs/mesh/lib/python3.9/site-packages (from torch>=1.0.1.post2->smplx->-r requirements.txt (line 10)) (4.0.1)\n",
      "Collecting parso<0.9.0,>=0.8.0\n",
      "  Downloading parso-0.8.3-py2.py3-none-any.whl (100 kB)\n",
      "     |████████████████████████████████| 100 kB 20.7 MB/s           \n",
      "\u001b[?25hCollecting ptyprocess>=0.5\n",
      "  Downloading ptyprocess-0.7.0-py2.py3-none-any.whl (13 kB)\n",
      "Collecting wcwidth\n",
      "  Downloading wcwidth-0.2.5-py2.py3-none-any.whl (30 kB)\n",
      "Building wheels for collected packages: fvcore, chumpy, ipdb, termcolor\n",
      "  Building wheel for fvcore (setup.py) ... \u001b[?25ldone\n",
      "\u001b[?25h  Created wheel for fvcore: filename=fvcore-0.1.1.post20200716-py3-none-any.whl size=42322 sha256=a33b56de435b8cfdebb142c0e15c53f940abc90623344dfe58ec1594475a5741\n",
      "  Stored in directory: /home/ec2-user/.cache/pip/wheels/b3/e3/9e/73c525c73a5adcee90747bae5e7812297e3fca4f62de56a03d\n",
      "  Building wheel for chumpy (setup.py) ... \u001b[?25ldone\n",
      "\u001b[?25h  Created wheel for chumpy: filename=chumpy-0.70-py3-none-any.whl size=58285 sha256=a051e9de7562bcecb5faf45b09740289f827756905bdbe2c1eb727e521410b04\n",
      "  Stored in directory: /home/ec2-user/.cache/pip/wheels/71/b5/d3/bbff0d638d797944856371a4ee326f9ffb1829083a383bba77\n",
      "  Building wheel for ipdb (setup.py) ... \u001b[?25ldone\n",
      "\u001b[?25h  Created wheel for ipdb: filename=ipdb-0.13.9-py3-none-any.whl size=11648 sha256=4837d6f35b6463fcfeae02b5b58645488bacf77214ab891df8f9ec2e533904a4\n",
      "  Stored in directory: /home/ec2-user/.cache/pip/wheels/f7/29/9a/cf774cd86e9802f075a0be1c9e0830bc062d07897b2e9e87cd\n",
      "  Building wheel for termcolor (setup.py) ... \u001b[?25ldone\n",
      "\u001b[?25h  Created wheel for termcolor: filename=termcolor-1.1.0-py3-none-any.whl size=4848 sha256=21b375b1df9c398ff112c4f7d7bdb1198397daa23853e8e98af3abd345d56581\n",
      "  Stored in directory: /home/ec2-user/.cache/pip/wheels/b6/0d/90/0d1bbd99855f99cb2f6c2e5ff96f8023fad8ec367695f7d72d\n",
      "Successfully built fvcore chumpy ipdb termcolor\n"
     ]
    },
    {
     "name": "stdout",
     "output_type": "stream",
     "text": [
      "Installing collected packages: wcwidth, traitlets, ptyprocess, parso, PyYAML, pyparsing, pygments, prompt-toolkit, pickleshare, pexpect, matplotlib-inline, jedi, decorator, backcall, yacs, tqdm, toml, tifffile, termcolor, tabulate, scipy, PyWavelets, python-dateutil, portalocker, packaging, networkx, kiwisolver, ipython, imageio, fonttools, cycler, torchgeometry, smplx, scikit-image, opencv-python, matplotlib, loguru, ipdb, fvcore, chumpy\n",
      "Successfully installed PyWavelets-1.2.0 PyYAML-5.4.1 backcall-0.2.0 chumpy-0.70 cycler-0.11.0 decorator-5.1.0 fonttools-4.28.5 fvcore-0.1.1.post20200716 imageio-2.13.5 ipdb-0.13.9 ipython-7.30.1 jedi-0.18.1 kiwisolver-1.3.2 loguru-0.5.3 matplotlib-3.5.1 matplotlib-inline-0.1.3 networkx-2.6.3 opencv-python-4.5.4.60 packaging-21.3 parso-0.8.3 pexpect-4.8.0 pickleshare-0.7.5 portalocker-2.3.2 prompt-toolkit-3.0.24 ptyprocess-0.7.0 pygments-2.10.0 pyparsing-3.0.6 python-dateutil-2.8.2 scikit-image-0.19.1 scipy-1.7.3 smplx-0.1.28 tabulate-0.8.9 termcolor-1.1.0 tifffile-2021.11.2 toml-0.10.2 torchgeometry-0.1.2 tqdm-4.62.3 traitlets-5.1.1 wcwidth-0.2.5 yacs-0.1.8\n"
     ]
    }
   ],
   "source": [
    "# Install PHOSA\n",
    "#import torch\n",
    "#assert \"1.4.0\" in torch.__version__\n",
    "!git clone https://github.com/facebookresearch/phosa.git phosa_repo\n",
    "!mv phosa_repo/* .\n",
    "!pip install -r requirements.txt"
   ]
  },
  {
   "cell_type": "markdown",
   "metadata": {
    "id": "25C4hHV1D0gP"
   },
   "source": [
    "\n",
    "### Step 5: Install NMR, detectron2, FrankMocap"
   ]
  },
  {
   "cell_type": "code",
   "execution_count": 5,
   "metadata": {
    "colab": {
     "base_uri": "https://localhost:8080/"
    },
    "collapsed": true,
    "id": "pnKJnev6KmBi",
    "outputId": "9a1650e3-24d6-441d-f1e8-9454e7ff00c6"
   },
   "outputs": [
    {
     "name": "stdout",
     "output_type": "stream",
     "text": [
      "Cloning into 'external/multiperson'...\n",
      "remote: Enumerating objects: 774, done.\u001b[K\n",
      "remote: Counting objects: 100% (22/22), done.\u001b[K\n",
      "remote: Compressing objects: 100% (19/19), done.\u001b[K\n",
      "remote: Total 774 (delta 2), reused 9 (delta 2), pack-reused 752\u001b[K\n",
      "Receiving objects: 100% (774/774), 48.67 MiB | 32.85 MiB/s, done.\n",
      "Resolving deltas: 100% (190/190), done.\n",
      "Looking in indexes: https://pypi.org/simple, https://pip.repos.neuron.amazonaws.com\n",
      "Processing ./external/multiperson/neural_renderer\n",
      "  Preparing metadata (setup.py) ... \u001b[?25ldone\n",
      "\u001b[?25hBuilding wheels for collected packages: neural-renderer-pytorch\n",
      "  Building wheel for neural-renderer-pytorch (setup.py) ... \u001b[?25lerror\n",
      "\u001b[31m  ERROR: Command errored out with exit status 1:\n",
      "   command: /home/ec2-user/anaconda3/envs/mesh/bin/python3.9 -u -c 'import io, os, sys, setuptools, tokenize; sys.argv[0] = '\"'\"'/home/ec2-user/GP/external/multiperson/neural_renderer/setup.py'\"'\"'; __file__='\"'\"'/home/ec2-user/GP/external/multiperson/neural_renderer/setup.py'\"'\"';f = getattr(tokenize, '\"'\"'open'\"'\"', open)(__file__) if os.path.exists(__file__) else io.StringIO('\"'\"'from setuptools import setup; setup()'\"'\"');code = f.read().replace('\"'\"'\\r\\n'\"'\"', '\"'\"'\\n'\"'\"');f.close();exec(compile(code, __file__, '\"'\"'exec'\"'\"'))' bdist_wheel -d /tmp/pip-wheel-3q5hvfx6\n",
      "       cwd: /home/ec2-user/GP/external/multiperson/neural_renderer/\n",
      "  Complete output (63 lines):\n",
      "  running bdist_wheel\n",
      "  /home/ec2-user/anaconda3/envs/mesh/lib/python3.9/site-packages/torch/utils/cpp_extension.py:381: UserWarning: Attempted to use ninja as the BuildExtension backend but we could not find ninja.. Falling back to using the slow distutils backend.\n",
      "    warnings.warn(msg.format('we could not find ninja.'))\n",
      "  running build\n",
      "  running build_py\n",
      "  creating build\n",
      "  creating build/lib.linux-x86_64-3.9\n",
      "  creating build/lib.linux-x86_64-3.9/neural_renderer\n",
      "  copying neural_renderer/__init__.py -> build/lib.linux-x86_64-3.9/neural_renderer\n",
      "  copying neural_renderer/get_points_from_angles.py -> build/lib.linux-x86_64-3.9/neural_renderer\n",
      "  copying neural_renderer/lighting.py -> build/lib.linux-x86_64-3.9/neural_renderer\n",
      "  copying neural_renderer/load_obj.py -> build/lib.linux-x86_64-3.9/neural_renderer\n",
      "  copying neural_renderer/look.py -> build/lib.linux-x86_64-3.9/neural_renderer\n",
      "  copying neural_renderer/look_at.py -> build/lib.linux-x86_64-3.9/neural_renderer\n",
      "  copying neural_renderer/mesh.py -> build/lib.linux-x86_64-3.9/neural_renderer\n",
      "  copying neural_renderer/perspective.py -> build/lib.linux-x86_64-3.9/neural_renderer\n",
      "  copying neural_renderer/projection.py -> build/lib.linux-x86_64-3.9/neural_renderer\n",
      "  copying neural_renderer/rasterize.py -> build/lib.linux-x86_64-3.9/neural_renderer\n",
      "  copying neural_renderer/renderer.py -> build/lib.linux-x86_64-3.9/neural_renderer\n",
      "  copying neural_renderer/save_obj.py -> build/lib.linux-x86_64-3.9/neural_renderer\n",
      "  copying neural_renderer/vertices_to_faces.py -> build/lib.linux-x86_64-3.9/neural_renderer\n",
      "  copying neural_renderer/visibility.py -> build/lib.linux-x86_64-3.9/neural_renderer\n",
      "  creating build/lib.linux-x86_64-3.9/neural_renderer/cuda\n",
      "  copying neural_renderer/cuda/__init__.py -> build/lib.linux-x86_64-3.9/neural_renderer/cuda\n",
      "  running build_ext\n",
      "  Traceback (most recent call last):\n",
      "    File \"<string>\", line 1, in <module>\n",
      "    File \"/home/ec2-user/GP/external/multiperson/neural_renderer/setup.py\", line 29, in <module>\n",
      "      setup(\n",
      "    File \"/home/ec2-user/anaconda3/envs/mesh/lib/python3.9/site-packages/setuptools/__init__.py\", line 153, in setup\n",
      "      return distutils.core.setup(**attrs)\n",
      "    File \"/home/ec2-user/anaconda3/envs/mesh/lib/python3.9/site-packages/setuptools/_distutils/core.py\", line 148, in setup\n",
      "      return run_commands(dist)\n",
      "    File \"/home/ec2-user/anaconda3/envs/mesh/lib/python3.9/site-packages/setuptools/_distutils/core.py\", line 163, in run_commands\n",
      "      dist.run_commands()\n",
      "    File \"/home/ec2-user/anaconda3/envs/mesh/lib/python3.9/site-packages/setuptools/_distutils/dist.py\", line 967, in run_commands\n",
      "      self.run_command(cmd)\n",
      "    File \"/home/ec2-user/anaconda3/envs/mesh/lib/python3.9/site-packages/setuptools/_distutils/dist.py\", line 986, in run_command\n",
      "      cmd_obj.run()\n",
      "    File \"/home/ec2-user/anaconda3/envs/mesh/lib/python3.9/site-packages/wheel/bdist_wheel.py\", line 299, in run\n",
      "      self.run_command('build')\n",
      "    File \"/home/ec2-user/anaconda3/envs/mesh/lib/python3.9/site-packages/setuptools/_distutils/cmd.py\", line 313, in run_command\n",
      "      self.distribution.run_command(command)\n",
      "    File \"/home/ec2-user/anaconda3/envs/mesh/lib/python3.9/site-packages/setuptools/_distutils/dist.py\", line 986, in run_command\n",
      "      cmd_obj.run()\n",
      "    File \"/home/ec2-user/anaconda3/envs/mesh/lib/python3.9/site-packages/setuptools/_distutils/command/build.py\", line 135, in run\n",
      "      self.run_command(cmd_name)\n",
      "    File \"/home/ec2-user/anaconda3/envs/mesh/lib/python3.9/site-packages/setuptools/_distutils/cmd.py\", line 313, in run_command\n",
      "      self.distribution.run_command(command)\n",
      "    File \"/home/ec2-user/anaconda3/envs/mesh/lib/python3.9/site-packages/setuptools/_distutils/dist.py\", line 986, in run_command\n",
      "      cmd_obj.run()\n",
      "    File \"/home/ec2-user/anaconda3/envs/mesh/lib/python3.9/site-packages/setuptools/command/build_ext.py\", line 79, in run\n",
      "      _build_ext.run(self)\n",
      "    File \"/home/ec2-user/anaconda3/envs/mesh/lib/python3.9/site-packages/setuptools/_distutils/command/build_ext.py\", line 339, in run\n",
      "      self.build_extensions()\n",
      "    File \"/home/ec2-user/anaconda3/envs/mesh/lib/python3.9/site-packages/torch/utils/cpp_extension.py\", line 404, in build_extensions\n",
      "      self._check_cuda_version()\n",
      "    File \"/home/ec2-user/anaconda3/envs/mesh/lib/python3.9/site-packages/torch/utils/cpp_extension.py\", line 781, in _check_cuda_version\n",
      "      raise RuntimeError(CUDA_MISMATCH_MESSAGE.format(cuda_str_version, torch.version.cuda))\n",
      "  RuntimeError:\n",
      "  The detected CUDA version (10.0) mismatches the version that was used to compile\n",
      "  PyTorch (11.3). Please make sure to use the same CUDA versions.\n",
      "  \n",
      "  ----------------------------------------\u001b[0m\n",
      "\u001b[31m  ERROR: Failed building wheel for neural-renderer-pytorch\u001b[0m\n",
      "\u001b[?25h  Running setup.py clean for neural-renderer-pytorch\n",
      "Failed to build neural-renderer-pytorch\n",
      "Installing collected packages: neural-renderer-pytorch\n",
      "    Running setup.py install for neural-renderer-pytorch ... \u001b[?25lerror\n",
      "\u001b[31m    ERROR: Command errored out with exit status 1:\n",
      "     command: /home/ec2-user/anaconda3/envs/mesh/bin/python3.9 -u -c 'import io, os, sys, setuptools, tokenize; sys.argv[0] = '\"'\"'/home/ec2-user/GP/external/multiperson/neural_renderer/setup.py'\"'\"'; __file__='\"'\"'/home/ec2-user/GP/external/multiperson/neural_renderer/setup.py'\"'\"';f = getattr(tokenize, '\"'\"'open'\"'\"', open)(__file__) if os.path.exists(__file__) else io.StringIO('\"'\"'from setuptools import setup; setup()'\"'\"');code = f.read().replace('\"'\"'\\r\\n'\"'\"', '\"'\"'\\n'\"'\"');f.close();exec(compile(code, __file__, '\"'\"'exec'\"'\"'))' install --record /tmp/pip-record-mj15he6c/install-record.txt --single-version-externally-managed --compile --install-headers /home/ec2-user/anaconda3/envs/mesh/include/python3.9/neural-renderer-pytorch\n",
      "         cwd: /home/ec2-user/GP/external/multiperson/neural_renderer/\n",
      "    Complete output (67 lines):\n",
      "    running install\n",
      "    /home/ec2-user/anaconda3/envs/mesh/lib/python3.9/site-packages/setuptools/command/install.py:34: SetuptoolsDeprecationWarning: setup.py install is deprecated. Use build and pip and other standards-based tools.\n",
      "      warnings.warn(\n",
      "    running build\n",
      "    running build_py\n",
      "    creating build\n",
      "    creating build/lib.linux-x86_64-3.9\n",
      "    creating build/lib.linux-x86_64-3.9/neural_renderer\n",
      "    copying neural_renderer/__init__.py -> build/lib.linux-x86_64-3.9/neural_renderer\n",
      "    copying neural_renderer/get_points_from_angles.py -> build/lib.linux-x86_64-3.9/neural_renderer\n",
      "    copying neural_renderer/lighting.py -> build/lib.linux-x86_64-3.9/neural_renderer\n",
      "    copying neural_renderer/load_obj.py -> build/lib.linux-x86_64-3.9/neural_renderer\n",
      "    copying neural_renderer/look.py -> build/lib.linux-x86_64-3.9/neural_renderer\n",
      "    copying neural_renderer/look_at.py -> build/lib.linux-x86_64-3.9/neural_renderer\n",
      "    copying neural_renderer/mesh.py -> build/lib.linux-x86_64-3.9/neural_renderer\n",
      "    copying neural_renderer/perspective.py -> build/lib.linux-x86_64-3.9/neural_renderer\n",
      "    copying neural_renderer/projection.py -> build/lib.linux-x86_64-3.9/neural_renderer\n",
      "    copying neural_renderer/rasterize.py -> build/lib.linux-x86_64-3.9/neural_renderer\n",
      "    copying neural_renderer/renderer.py -> build/lib.linux-x86_64-3.9/neural_renderer\n",
      "    copying neural_renderer/save_obj.py -> build/lib.linux-x86_64-3.9/neural_renderer\n",
      "    copying neural_renderer/vertices_to_faces.py -> build/lib.linux-x86_64-3.9/neural_renderer\n",
      "    copying neural_renderer/visibility.py -> build/lib.linux-x86_64-3.9/neural_renderer\n",
      "    creating build/lib.linux-x86_64-3.9/neural_renderer/cuda\n",
      "    copying neural_renderer/cuda/__init__.py -> build/lib.linux-x86_64-3.9/neural_renderer/cuda\n",
      "    running build_ext\n",
      "    /home/ec2-user/anaconda3/envs/mesh/lib/python3.9/site-packages/torch/utils/cpp_extension.py:381: UserWarning: Attempted to use ninja as the BuildExtension backend but we could not find ninja.. Falling back to using the slow distutils backend.\n",
      "      warnings.warn(msg.format('we could not find ninja.'))\n",
      "    Traceback (most recent call last):\n",
      "      File \"<string>\", line 1, in <module>\n",
      "      File \"/home/ec2-user/GP/external/multiperson/neural_renderer/setup.py\", line 29, in <module>\n",
      "        setup(\n",
      "      File \"/home/ec2-user/anaconda3/envs/mesh/lib/python3.9/site-packages/setuptools/__init__.py\", line 153, in setup\n",
      "        return distutils.core.setup(**attrs)\n",
      "      File \"/home/ec2-user/anaconda3/envs/mesh/lib/python3.9/site-packages/setuptools/_distutils/core.py\", line 148, in setup\n",
      "        return run_commands(dist)\n",
      "      File \"/home/ec2-user/anaconda3/envs/mesh/lib/python3.9/site-packages/setuptools/_distutils/core.py\", line 163, in run_commands\n",
      "        dist.run_commands()\n",
      "      File \"/home/ec2-user/anaconda3/envs/mesh/lib/python3.9/site-packages/setuptools/_distutils/dist.py\", line 967, in run_commands\n",
      "        self.run_command(cmd)\n",
      "      File \"/home/ec2-user/anaconda3/envs/mesh/lib/python3.9/site-packages/setuptools/_distutils/dist.py\", line 986, in run_command\n",
      "        cmd_obj.run()\n",
      "      File \"/home/ec2-user/anaconda3/envs/mesh/lib/python3.9/site-packages/setuptools/command/install.py\", line 68, in run\n",
      "        return orig.install.run(self)\n",
      "      File \"/home/ec2-user/anaconda3/envs/mesh/lib/python3.9/site-packages/setuptools/_distutils/command/install.py\", line 662, in run\n",
      "        self.run_command('build')\n",
      "      File \"/home/ec2-user/anaconda3/envs/mesh/lib/python3.9/site-packages/setuptools/_distutils/cmd.py\", line 313, in run_command\n",
      "        self.distribution.run_command(command)\n",
      "      File \"/home/ec2-user/anaconda3/envs/mesh/lib/python3.9/site-packages/setuptools/_distutils/dist.py\", line 986, in run_command\n",
      "        cmd_obj.run()\n",
      "      File \"/home/ec2-user/anaconda3/envs/mesh/lib/python3.9/site-packages/setuptools/_distutils/command/build.py\", line 135, in run\n",
      "        self.run_command(cmd_name)\n",
      "      File \"/home/ec2-user/anaconda3/envs/mesh/lib/python3.9/site-packages/setuptools/_distutils/cmd.py\", line 313, in run_command\n",
      "        self.distribution.run_command(command)\n",
      "      File \"/home/ec2-user/anaconda3/envs/mesh/lib/python3.9/site-packages/setuptools/_distutils/dist.py\", line 986, in run_command\n",
      "        cmd_obj.run()\n",
      "      File \"/home/ec2-user/anaconda3/envs/mesh/lib/python3.9/site-packages/setuptools/command/build_ext.py\", line 79, in run\n",
      "        _build_ext.run(self)\n",
      "      File \"/home/ec2-user/anaconda3/envs/mesh/lib/python3.9/site-packages/setuptools/_distutils/command/build_ext.py\", line 339, in run\n",
      "        self.build_extensions()\n",
      "      File \"/home/ec2-user/anaconda3/envs/mesh/lib/python3.9/site-packages/torch/utils/cpp_extension.py\", line 404, in build_extensions\n",
      "        self._check_cuda_version()\n",
      "      File \"/home/ec2-user/anaconda3/envs/mesh/lib/python3.9/site-packages/torch/utils/cpp_extension.py\", line 781, in _check_cuda_version\n",
      "        raise RuntimeError(CUDA_MISMATCH_MESSAGE.format(cuda_str_version, torch.version.cuda))\n",
      "    RuntimeError:\n",
      "    The detected CUDA version (10.0) mismatches the version that was used to compile\n",
      "    PyTorch (11.3). Please make sure to use the same CUDA versions.\n",
      "    \n",
      "    ----------------------------------------\u001b[0m\n",
      "\u001b[31mERROR: Command errored out with exit status 1: /home/ec2-user/anaconda3/envs/mesh/bin/python3.9 -u -c 'import io, os, sys, setuptools, tokenize; sys.argv[0] = '\"'\"'/home/ec2-user/GP/external/multiperson/neural_renderer/setup.py'\"'\"'; __file__='\"'\"'/home/ec2-user/GP/external/multiperson/neural_renderer/setup.py'\"'\"';f = getattr(tokenize, '\"'\"'open'\"'\"', open)(__file__) if os.path.exists(__file__) else io.StringIO('\"'\"'from setuptools import setup; setup()'\"'\"');code = f.read().replace('\"'\"'\\r\\n'\"'\"', '\"'\"'\\n'\"'\"');f.close();exec(compile(code, __file__, '\"'\"'exec'\"'\"'))' install --record /tmp/pip-record-mj15he6c/install-record.txt --single-version-externally-managed --compile --install-headers /home/ec2-user/anaconda3/envs/mesh/include/python3.9/neural-renderer-pytorch Check the logs for full command output.\u001b[0m\n",
      "\u001b[?25h"
     ]
    }
   ],
   "source": [
    "# # Install NMR\n",
    "# #!pip install http://jasonyzhang.com/phosa_data/neural_renderer_pytorch-1.1.3-cp37-cp37m-linux_x86_64.whl\n",
    "# # If the pre-built wheel doesn't work, you can build NMR from source (takes\n",
    "# # several minutes):\n",
    "# import torch\n",
    "# assert \"1.4.0\" in torch.__version__\n",
    "!mkdir -p external\n",
    "!git clone https://github.com/JiangWenPL/multiperson.git external/multiperson\n",
    "# !pip install external/multiperson/neural_renderer\n",
    "#!mkdir -p external\n",
    "#!git clone https://gitlab.tuebingen.mpg.de/mkocabas/neural_renderer.git external/multiperson\n",
    "!pip install external/multiperson/neural_renderer\n"
   ]
  },
  {
   "cell_type": "code",
   "execution_count": 1,
   "metadata": {},
   "outputs": [],
   "source": [
    "!mkdir -p external"
   ]
  },
  {
   "cell_type": "code",
   "execution_count": 2,
   "metadata": {},
   "outputs": [
    {
     "name": "stdout",
     "output_type": "stream",
     "text": [
      "Cloning into 'external/multiperson'...\n",
      "remote: Enumerating objects: 792, done.\u001b[K\n",
      "remote: Counting objects: 100% (40/40), done.\u001b[K\n",
      "remote: Compressing objects: 100% (37/37), done.\u001b[K\n",
      "remote: Total 792 (delta 12), reused 10 (delta 2), pack-reused 752\u001b[K\n",
      "Receiving objects: 100% (792/792), 48.67 MiB | 26.39 MiB/s, done.\n",
      "Resolving deltas: 100% (200/200), done.\n"
     ]
    }
   ],
   "source": [
    "!git clone https://github.com/MohsenAziz/multiperson.git external/multiperson"
   ]
  },
  {
   "cell_type": "code",
   "execution_count": 3,
   "metadata": {},
   "outputs": [
    {
     "name": "stdout",
     "output_type": "stream",
     "text": [
      "Cloning into 'external/detectron2'...\n",
      "remote: Enumerating objects: 13765, done.\u001b[K\n",
      "remote: Total 13765 (delta 0), reused 0 (delta 0), pack-reused 13765\u001b[K\n",
      "Receiving objects: 100% (13765/13765), 5.65 MiB | 25.14 MiB/s, done.\n",
      "Resolving deltas: 100% (9958/9958), done.\n"
     ]
    }
   ],
   "source": [
    "!git clone https://github.com/MohsenAziz/detectron2.git external/detectron2"
   ]
  },
  {
   "cell_type": "code",
   "execution_count": null,
   "metadata": {},
   "outputs": [],
   "source": [
    "!git clone https://github.com/MohsenAziz/frankmocap.git external/frankmocap"
   ]
  },
  {
   "cell_type": "code",
   "execution_count": null,
   "metadata": {},
   "outputs": [],
   "source": []
  },
  {
   "cell_type": "code",
   "execution_count": null,
   "metadata": {},
   "outputs": [],
   "source": []
  },
  {
   "cell_type": "code",
   "execution_count": 8,
   "metadata": {
    "collapsed": true
   },
   "outputs": [
    {
     "name": "stdout",
     "output_type": "stream",
     "text": [
      "Looking in indexes: https://pypi.org/simple, https://pip.repos.neuron.amazonaws.com\n",
      "Processing ./external/multiperson/neural_renderer\n",
      "  Preparing metadata (setup.py) ... \u001b[?25ldone\n",
      "\u001b[?25hBuilding wheels for collected packages: neural-renderer-pytorch\n",
      "  Building wheel for neural-renderer-pytorch (setup.py) ... \u001b[?25lerror\n",
      "\u001b[31m  ERROR: Command errored out with exit status 1:\n",
      "   command: /home/ec2-user/anaconda3/envs/mesh/bin/python3.9 -u -c 'import io, os, sys, setuptools, tokenize; sys.argv[0] = '\"'\"'/home/ec2-user/GP/external/multiperson/neural_renderer/setup.py'\"'\"'; __file__='\"'\"'/home/ec2-user/GP/external/multiperson/neural_renderer/setup.py'\"'\"';f = getattr(tokenize, '\"'\"'open'\"'\"', open)(__file__) if os.path.exists(__file__) else io.StringIO('\"'\"'from setuptools import setup; setup()'\"'\"');code = f.read().replace('\"'\"'\\r\\n'\"'\"', '\"'\"'\\n'\"'\"');f.close();exec(compile(code, __file__, '\"'\"'exec'\"'\"'))' bdist_wheel -d /tmp/pip-wheel-c_li6i0f\n",
      "       cwd: /home/ec2-user/GP/external/multiperson/neural_renderer/\n",
      "  Complete output (46 lines):\n",
      "  running bdist_wheel\n",
      "  /home/ec2-user/anaconda3/envs/mesh/lib/python3.9/site-packages/torch/utils/cpp_extension.py:381: UserWarning: Attempted to use ninja as the BuildExtension backend but we could not find ninja.. Falling back to using the slow distutils backend.\n",
      "    warnings.warn(msg.format('we could not find ninja.'))\n",
      "  running build\n",
      "  running build_py\n",
      "  running build_ext\n",
      "  Traceback (most recent call last):\n",
      "    File \"<string>\", line 1, in <module>\n",
      "    File \"/home/ec2-user/GP/external/multiperson/neural_renderer/setup.py\", line 29, in <module>\n",
      "      setup(\n",
      "    File \"/home/ec2-user/anaconda3/envs/mesh/lib/python3.9/site-packages/setuptools/__init__.py\", line 153, in setup\n",
      "      return distutils.core.setup(**attrs)\n",
      "    File \"/home/ec2-user/anaconda3/envs/mesh/lib/python3.9/site-packages/setuptools/_distutils/core.py\", line 148, in setup\n",
      "      return run_commands(dist)\n",
      "    File \"/home/ec2-user/anaconda3/envs/mesh/lib/python3.9/site-packages/setuptools/_distutils/core.py\", line 163, in run_commands\n",
      "      dist.run_commands()\n",
      "    File \"/home/ec2-user/anaconda3/envs/mesh/lib/python3.9/site-packages/setuptools/_distutils/dist.py\", line 967, in run_commands\n",
      "      self.run_command(cmd)\n",
      "    File \"/home/ec2-user/anaconda3/envs/mesh/lib/python3.9/site-packages/setuptools/_distutils/dist.py\", line 986, in run_command\n",
      "      cmd_obj.run()\n",
      "    File \"/home/ec2-user/anaconda3/envs/mesh/lib/python3.9/site-packages/wheel/bdist_wheel.py\", line 299, in run\n",
      "      self.run_command('build')\n",
      "    File \"/home/ec2-user/anaconda3/envs/mesh/lib/python3.9/site-packages/setuptools/_distutils/cmd.py\", line 313, in run_command\n",
      "      self.distribution.run_command(command)\n",
      "    File \"/home/ec2-user/anaconda3/envs/mesh/lib/python3.9/site-packages/setuptools/_distutils/dist.py\", line 986, in run_command\n",
      "      cmd_obj.run()\n",
      "    File \"/home/ec2-user/anaconda3/envs/mesh/lib/python3.9/site-packages/setuptools/_distutils/command/build.py\", line 135, in run\n",
      "      self.run_command(cmd_name)\n",
      "    File \"/home/ec2-user/anaconda3/envs/mesh/lib/python3.9/site-packages/setuptools/_distutils/cmd.py\", line 313, in run_command\n",
      "      self.distribution.run_command(command)\n",
      "    File \"/home/ec2-user/anaconda3/envs/mesh/lib/python3.9/site-packages/setuptools/_distutils/dist.py\", line 986, in run_command\n",
      "      cmd_obj.run()\n",
      "    File \"/home/ec2-user/anaconda3/envs/mesh/lib/python3.9/site-packages/setuptools/command/build_ext.py\", line 79, in run\n",
      "      _build_ext.run(self)\n",
      "    File \"/home/ec2-user/anaconda3/envs/mesh/lib/python3.9/site-packages/Cython/Distutils/old_build_ext.py\", line 186, in run\n",
      "      _build_ext.build_ext.run(self)\n",
      "    File \"/home/ec2-user/anaconda3/envs/mesh/lib/python3.9/site-packages/setuptools/_distutils/command/build_ext.py\", line 339, in run\n",
      "      self.build_extensions()\n",
      "    File \"/home/ec2-user/anaconda3/envs/mesh/lib/python3.9/site-packages/torch/utils/cpp_extension.py\", line 404, in build_extensions\n",
      "      self._check_cuda_version()\n",
      "    File \"/home/ec2-user/anaconda3/envs/mesh/lib/python3.9/site-packages/torch/utils/cpp_extension.py\", line 781, in _check_cuda_version\n",
      "      raise RuntimeError(CUDA_MISMATCH_MESSAGE.format(cuda_str_version, torch.version.cuda))\n",
      "  RuntimeError:\n",
      "  The detected CUDA version (10.0) mismatches the version that was used to compile\n",
      "  PyTorch (11.3). Please make sure to use the same CUDA versions.\n",
      "  \n",
      "  ----------------------------------------\u001b[0m\n",
      "\u001b[31m  ERROR: Failed building wheel for neural-renderer-pytorch\u001b[0m\n",
      "\u001b[?25h  Running setup.py clean for neural-renderer-pytorch\n",
      "Failed to build neural-renderer-pytorch\n",
      "Installing collected packages: neural-renderer-pytorch\n",
      "    Running setup.py install for neural-renderer-pytorch ... \u001b[?25lerror\n",
      "\u001b[31m    ERROR: Command errored out with exit status 1:\n",
      "     command: /home/ec2-user/anaconda3/envs/mesh/bin/python3.9 -u -c 'import io, os, sys, setuptools, tokenize; sys.argv[0] = '\"'\"'/home/ec2-user/GP/external/multiperson/neural_renderer/setup.py'\"'\"'; __file__='\"'\"'/home/ec2-user/GP/external/multiperson/neural_renderer/setup.py'\"'\"';f = getattr(tokenize, '\"'\"'open'\"'\"', open)(__file__) if os.path.exists(__file__) else io.StringIO('\"'\"'from setuptools import setup; setup()'\"'\"');code = f.read().replace('\"'\"'\\r\\n'\"'\"', '\"'\"'\\n'\"'\"');f.close();exec(compile(code, __file__, '\"'\"'exec'\"'\"'))' install --record /tmp/pip-record-bzjbh7o1/install-record.txt --single-version-externally-managed --compile --install-headers /home/ec2-user/anaconda3/envs/mesh/include/python3.9/neural-renderer-pytorch\n",
      "         cwd: /home/ec2-user/GP/external/multiperson/neural_renderer/\n",
      "    Complete output (69 lines):\n",
      "    running install\n",
      "    /home/ec2-user/anaconda3/envs/mesh/lib/python3.9/site-packages/setuptools/command/install.py:34: SetuptoolsDeprecationWarning: setup.py install is deprecated. Use build and pip and other standards-based tools.\n",
      "      warnings.warn(\n",
      "    running build\n",
      "    running build_py\n",
      "    creating build\n",
      "    creating build/lib.linux-x86_64-3.9\n",
      "    creating build/lib.linux-x86_64-3.9/neural_renderer\n",
      "    copying neural_renderer/__init__.py -> build/lib.linux-x86_64-3.9/neural_renderer\n",
      "    copying neural_renderer/get_points_from_angles.py -> build/lib.linux-x86_64-3.9/neural_renderer\n",
      "    copying neural_renderer/lighting.py -> build/lib.linux-x86_64-3.9/neural_renderer\n",
      "    copying neural_renderer/load_obj.py -> build/lib.linux-x86_64-3.9/neural_renderer\n",
      "    copying neural_renderer/look.py -> build/lib.linux-x86_64-3.9/neural_renderer\n",
      "    copying neural_renderer/look_at.py -> build/lib.linux-x86_64-3.9/neural_renderer\n",
      "    copying neural_renderer/mesh.py -> build/lib.linux-x86_64-3.9/neural_renderer\n",
      "    copying neural_renderer/perspective.py -> build/lib.linux-x86_64-3.9/neural_renderer\n",
      "    copying neural_renderer/projection.py -> build/lib.linux-x86_64-3.9/neural_renderer\n",
      "    copying neural_renderer/rasterize.py -> build/lib.linux-x86_64-3.9/neural_renderer\n",
      "    copying neural_renderer/renderer.py -> build/lib.linux-x86_64-3.9/neural_renderer\n",
      "    copying neural_renderer/save_obj.py -> build/lib.linux-x86_64-3.9/neural_renderer\n",
      "    copying neural_renderer/vertices_to_faces.py -> build/lib.linux-x86_64-3.9/neural_renderer\n",
      "    copying neural_renderer/visibility.py -> build/lib.linux-x86_64-3.9/neural_renderer\n",
      "    creating build/lib.linux-x86_64-3.9/neural_renderer/cuda\n",
      "    copying neural_renderer/cuda/__init__.py -> build/lib.linux-x86_64-3.9/neural_renderer/cuda\n",
      "    running build_ext\n",
      "    /home/ec2-user/anaconda3/envs/mesh/lib/python3.9/site-packages/torch/utils/cpp_extension.py:381: UserWarning: Attempted to use ninja as the BuildExtension backend but we could not find ninja.. Falling back to using the slow distutils backend.\n",
      "      warnings.warn(msg.format('we could not find ninja.'))\n",
      "    Traceback (most recent call last):\n",
      "      File \"<string>\", line 1, in <module>\n",
      "      File \"/home/ec2-user/GP/external/multiperson/neural_renderer/setup.py\", line 29, in <module>\n",
      "        setup(\n",
      "      File \"/home/ec2-user/anaconda3/envs/mesh/lib/python3.9/site-packages/setuptools/__init__.py\", line 153, in setup\n",
      "        return distutils.core.setup(**attrs)\n",
      "      File \"/home/ec2-user/anaconda3/envs/mesh/lib/python3.9/site-packages/setuptools/_distutils/core.py\", line 148, in setup\n",
      "        return run_commands(dist)\n",
      "      File \"/home/ec2-user/anaconda3/envs/mesh/lib/python3.9/site-packages/setuptools/_distutils/core.py\", line 163, in run_commands\n",
      "        dist.run_commands()\n",
      "      File \"/home/ec2-user/anaconda3/envs/mesh/lib/python3.9/site-packages/setuptools/_distutils/dist.py\", line 967, in run_commands\n",
      "        self.run_command(cmd)\n",
      "      File \"/home/ec2-user/anaconda3/envs/mesh/lib/python3.9/site-packages/setuptools/_distutils/dist.py\", line 986, in run_command\n",
      "        cmd_obj.run()\n",
      "      File \"/home/ec2-user/anaconda3/envs/mesh/lib/python3.9/site-packages/setuptools/command/install.py\", line 68, in run\n",
      "        return orig.install.run(self)\n",
      "      File \"/home/ec2-user/anaconda3/envs/mesh/lib/python3.9/site-packages/setuptools/_distutils/command/install.py\", line 662, in run\n",
      "        self.run_command('build')\n",
      "      File \"/home/ec2-user/anaconda3/envs/mesh/lib/python3.9/site-packages/setuptools/_distutils/cmd.py\", line 313, in run_command\n",
      "        self.distribution.run_command(command)\n",
      "      File \"/home/ec2-user/anaconda3/envs/mesh/lib/python3.9/site-packages/setuptools/_distutils/dist.py\", line 986, in run_command\n",
      "        cmd_obj.run()\n",
      "      File \"/home/ec2-user/anaconda3/envs/mesh/lib/python3.9/site-packages/setuptools/_distutils/command/build.py\", line 135, in run\n",
      "        self.run_command(cmd_name)\n",
      "      File \"/home/ec2-user/anaconda3/envs/mesh/lib/python3.9/site-packages/setuptools/_distutils/cmd.py\", line 313, in run_command\n",
      "        self.distribution.run_command(command)\n",
      "      File \"/home/ec2-user/anaconda3/envs/mesh/lib/python3.9/site-packages/setuptools/_distutils/dist.py\", line 986, in run_command\n",
      "        cmd_obj.run()\n",
      "      File \"/home/ec2-user/anaconda3/envs/mesh/lib/python3.9/site-packages/setuptools/command/build_ext.py\", line 79, in run\n",
      "        _build_ext.run(self)\n",
      "      File \"/home/ec2-user/anaconda3/envs/mesh/lib/python3.9/site-packages/Cython/Distutils/old_build_ext.py\", line 186, in run\n",
      "        _build_ext.build_ext.run(self)\n",
      "      File \"/home/ec2-user/anaconda3/envs/mesh/lib/python3.9/site-packages/setuptools/_distutils/command/build_ext.py\", line 339, in run\n",
      "        self.build_extensions()\n",
      "      File \"/home/ec2-user/anaconda3/envs/mesh/lib/python3.9/site-packages/torch/utils/cpp_extension.py\", line 404, in build_extensions\n",
      "        self._check_cuda_version()\n",
      "      File \"/home/ec2-user/anaconda3/envs/mesh/lib/python3.9/site-packages/torch/utils/cpp_extension.py\", line 781, in _check_cuda_version\n",
      "        raise RuntimeError(CUDA_MISMATCH_MESSAGE.format(cuda_str_version, torch.version.cuda))\n",
      "    RuntimeError:\n",
      "    The detected CUDA version (10.0) mismatches the version that was used to compile\n",
      "    PyTorch (11.3). Please make sure to use the same CUDA versions.\n",
      "    \n",
      "    ----------------------------------------\u001b[0m\n",
      "\u001b[31mERROR: Command errored out with exit status 1: /home/ec2-user/anaconda3/envs/mesh/bin/python3.9 -u -c 'import io, os, sys, setuptools, tokenize; sys.argv[0] = '\"'\"'/home/ec2-user/GP/external/multiperson/neural_renderer/setup.py'\"'\"'; __file__='\"'\"'/home/ec2-user/GP/external/multiperson/neural_renderer/setup.py'\"'\"';f = getattr(tokenize, '\"'\"'open'\"'\"', open)(__file__) if os.path.exists(__file__) else io.StringIO('\"'\"'from setuptools import setup; setup()'\"'\"');code = f.read().replace('\"'\"'\\r\\n'\"'\"', '\"'\"'\\n'\"'\"');f.close();exec(compile(code, __file__, '\"'\"'exec'\"'\"'))' install --record /tmp/pip-record-bzjbh7o1/install-record.txt --single-version-externally-managed --compile --install-headers /home/ec2-user/anaconda3/envs/mesh/include/python3.9/neural-renderer-pytorch Check the logs for full command output.\u001b[0m\n",
      "\u001b[?25h"
     ]
    }
   ],
   "source": [
    "!pip install external/multiperson/neural_renderer"
   ]
  },
  {
   "cell_type": "code",
   "execution_count": 6,
   "metadata": {
    "colab": {
     "base_uri": "https://localhost:8080/"
    },
    "id": "Y2wS9dP1gDLJ",
    "outputId": "d8462a69-ac66-4f74-950c-4df9513e7f89"
   },
   "outputs": [
    {
     "name": "stdout",
     "output_type": "stream",
     "text": [
      "Looking in indexes: https://pypi.org/simple, https://pip.repos.neuron.amazonaws.com\n",
      "Collecting pyyaml==5.1\n",
      "  Using cached PyYAML-5.1.tar.gz (274 kB)\n",
      "  Preparing metadata (setup.py) ... \u001b[?25ldone\n",
      "\u001b[?25hBuilding wheels for collected packages: pyyaml\n",
      "  Building wheel for pyyaml (setup.py) ... \u001b[?25ldone\n",
      "\u001b[?25h  Created wheel for pyyaml: filename=PyYAML-5.1-cp39-cp39-linux_x86_64.whl size=44091 sha256=6b76d890f8bb2ddbb9dc63d99fcd049bac351d3f88876cbe57c1b6bb9fb44847\n",
      "  Stored in directory: /home/ec2-user/.cache/pip/wheels/68/be/8f/b6c454cd264e0b349b47f8ee00755511f277618af9e5dae20d\n",
      "Successfully built pyyaml\n",
      "Installing collected packages: pyyaml\n",
      "  Attempting uninstall: pyyaml\n",
      "    Found existing installation: PyYAML 5.4.1\n",
      "    Uninstalling PyYAML-5.4.1:\n",
      "      Successfully uninstalled PyYAML-5.4.1\n",
      "Successfully installed pyyaml-5.1\n",
      "Cloning into 'external/detectron2'...\n",
      "remote: Enumerating objects: 13717, done.\u001b[K\n",
      "remote: Total 13717 (delta 0), reused 0 (delta 0), pack-reused 13717\u001b[K\n",
      "Receiving objects: 100% (13717/13717), 5.63 MiB | 9.15 MiB/s, done.\n",
      "Resolving deltas: 100% (9918/9918), done.\n",
      "Note: switching to 'd1e04565d3bec8719335b88be9e9b961bf3ec464'.\n",
      "\n",
      "You are in 'detached HEAD' state. You can look around, make experimental\n",
      "changes and commit them, and you can discard any commits you make in this\n",
      "state without impacting any branches by switching back to a branch.\n",
      "\n",
      "If you want to create a new branch to retain commits you create, you may\n",
      "do so (now or later) by using -c with the switch command. Example:\n",
      "\n",
      "  git switch -c <new-branch-name>\n",
      "\n",
      "Or undo this operation with:\n",
      "\n",
      "  git switch -\n",
      "\n",
      "Turn off this advice by setting config variable advice.detachedHead to false\n",
      "\n",
      "Looking in indexes: https://pypi.org/simple, https://pip.repos.neuron.amazonaws.com\n",
      "Obtaining file:///home/ec2-user/GP/external/detectron2\n",
      "  Preparing metadata (setup.py) ... \u001b[?25ldone\n",
      "\u001b[?25hRequirement already satisfied: Pillow>=7.1 in /home/ec2-user/anaconda3/envs/mesh/lib/python3.9/site-packages (from detectron2==0.6) (8.4.0)\n",
      "Requirement already satisfied: matplotlib in /home/ec2-user/anaconda3/envs/mesh/lib/python3.9/site-packages (from detectron2==0.6) (3.5.1)\n",
      "Collecting pycocotools>=2.0.2\n",
      "  Using cached pycocotools-2.0.3.tar.gz (106 kB)\n",
      "  Preparing metadata (setup.py) ... \u001b[?25ldone\n",
      "\u001b[?25hRequirement already satisfied: termcolor>=1.1 in /home/ec2-user/anaconda3/envs/mesh/lib/python3.9/site-packages (from detectron2==0.6) (1.1.0)\n",
      "Requirement already satisfied: yacs>=0.1.8 in /home/ec2-user/anaconda3/envs/mesh/lib/python3.9/site-packages (from detectron2==0.6) (0.1.8)\n",
      "Requirement already satisfied: tabulate in /home/ec2-user/anaconda3/envs/mesh/lib/python3.9/site-packages (from detectron2==0.6) (0.8.9)\n",
      "Collecting cloudpickle\n",
      "  Downloading cloudpickle-2.0.0-py3-none-any.whl (25 kB)\n",
      "Requirement already satisfied: tqdm>4.29.0 in /home/ec2-user/anaconda3/envs/mesh/lib/python3.9/site-packages (from detectron2==0.6) (4.62.3)\n",
      "Collecting tensorboard\n",
      "  Using cached tensorboard-2.7.0-py3-none-any.whl (5.8 MB)\n",
      "Collecting fvcore<0.1.6,>=0.1.5\n",
      "  Using cached fvcore-0.1.5.post20211023.tar.gz (49 kB)\n",
      "  Preparing metadata (setup.py) ... \u001b[?25ldone\n",
      "\u001b[?25hCollecting iopath<0.1.10,>=0.1.7\n",
      "  Using cached iopath-0.1.9-py3-none-any.whl (27 kB)\n",
      "Collecting future\n",
      "  Downloading future-0.18.2.tar.gz (829 kB)\n",
      "     |████████████████████████████████| 829 kB 5.7 MB/s            \n",
      "\u001b[?25h  Preparing metadata (setup.py) ... \u001b[?25ldone\n",
      "\u001b[?25hCollecting pydot\n",
      "  Using cached pydot-1.4.2-py2.py3-none-any.whl (21 kB)\n",
      "Collecting omegaconf>=2.1\n",
      "  Using cached omegaconf-2.1.1-py3-none-any.whl (74 kB)\n",
      "Collecting hydra-core>=1.1\n",
      "  Using cached hydra_core-1.1.1-py3-none-any.whl (145 kB)\n",
      "Collecting black==21.4b2\n",
      "  Using cached black-21.4b2-py3-none-any.whl (130 kB)\n",
      "Collecting appdirs\n",
      "  Downloading appdirs-1.4.4-py2.py3-none-any.whl (9.6 kB)\n",
      "Requirement already satisfied: toml>=0.10.1 in /home/ec2-user/anaconda3/envs/mesh/lib/python3.9/site-packages (from black==21.4b2->detectron2==0.6) (0.10.2)\n",
      "Collecting click>=7.1.2\n",
      "  Downloading click-8.0.3-py3-none-any.whl (97 kB)\n",
      "     |████████████████████████████████| 97 kB 5.9 MB/s             \n",
      "\u001b[?25hCollecting mypy-extensions>=0.4.3\n",
      "  Downloading mypy_extensions-0.4.3-py2.py3-none-any.whl (4.5 kB)\n",
      "Collecting pathspec<1,>=0.8.1\n",
      "  Downloading pathspec-0.9.0-py2.py3-none-any.whl (31 kB)\n",
      "Collecting regex>=2020.1.8\n",
      "  Downloading regex-2021.11.10-cp39-cp39-manylinux_2_17_x86_64.manylinux2014_x86_64.whl (763 kB)\n",
      "     |████████████████████████████████| 763 kB 21.4 MB/s            \n",
      "\u001b[?25hRequirement already satisfied: numpy in /home/ec2-user/anaconda3/envs/mesh/lib/python3.9/site-packages (from fvcore<0.1.6,>=0.1.5->detectron2==0.6) (1.21.2)\n",
      "Requirement already satisfied: pyyaml>=5.1 in /home/ec2-user/anaconda3/envs/mesh/lib/python3.9/site-packages (from fvcore<0.1.6,>=0.1.5->detectron2==0.6) (5.1)\n",
      "Collecting antlr4-python3-runtime==4.8\n",
      "  Using cached antlr4-python3-runtime-4.8.tar.gz (112 kB)\n",
      "  Preparing metadata (setup.py) ... \u001b[?25ldone\n",
      "\u001b[?25hRequirement already satisfied: portalocker in /home/ec2-user/anaconda3/envs/mesh/lib/python3.9/site-packages (from iopath<0.1.10,>=0.1.7->detectron2==0.6) (2.3.2)\n",
      "Requirement already satisfied: setuptools>=18.0 in /home/ec2-user/anaconda3/envs/mesh/lib/python3.9/site-packages (from pycocotools>=2.0.2->detectron2==0.6) (60.1.0)\n",
      "Collecting cython>=0.27.3\n",
      "  Using cached Cython-0.29.26-cp39-cp39-manylinux_2_17_x86_64.manylinux2014_x86_64.manylinux_2_24_x86_64.whl (1.9 MB)\n",
      "Requirement already satisfied: pyparsing>=2.2.1 in /home/ec2-user/anaconda3/envs/mesh/lib/python3.9/site-packages (from matplotlib->detectron2==0.6) (3.0.6)\n",
      "Requirement already satisfied: python-dateutil>=2.7 in /home/ec2-user/anaconda3/envs/mesh/lib/python3.9/site-packages (from matplotlib->detectron2==0.6) (2.8.2)\n",
      "Requirement already satisfied: packaging>=20.0 in /home/ec2-user/anaconda3/envs/mesh/lib/python3.9/site-packages (from matplotlib->detectron2==0.6) (21.3)\n",
      "Requirement already satisfied: kiwisolver>=1.0.1 in /home/ec2-user/anaconda3/envs/mesh/lib/python3.9/site-packages (from matplotlib->detectron2==0.6) (1.3.2)\n",
      "Requirement already satisfied: cycler>=0.10 in /home/ec2-user/anaconda3/envs/mesh/lib/python3.9/site-packages (from matplotlib->detectron2==0.6) (0.11.0)\n",
      "Requirement already satisfied: fonttools>=4.22.0 in /home/ec2-user/anaconda3/envs/mesh/lib/python3.9/site-packages (from matplotlib->detectron2==0.6) (4.28.5)\n",
      "Collecting markdown>=2.6.8\n",
      "  Using cached Markdown-3.3.6-py3-none-any.whl (97 kB)\n",
      "Collecting absl-py>=0.4\n",
      "  Using cached absl_py-1.0.0-py3-none-any.whl (126 kB)\n",
      "Collecting werkzeug>=0.11.15\n",
      "  Downloading Werkzeug-2.0.2-py3-none-any.whl (288 kB)\n",
      "     |████████████████████████████████| 288 kB 31.2 MB/s            \n",
      "\u001b[?25hCollecting google-auth-oauthlib<0.5,>=0.4.1\n",
      "  Using cached google_auth_oauthlib-0.4.6-py2.py3-none-any.whl (18 kB)\n",
      "Collecting tensorboard-plugin-wit>=1.6.0\n",
      "  Using cached tensorboard_plugin_wit-1.8.0-py3-none-any.whl (781 kB)\n",
      "Collecting protobuf>=3.6.0\n",
      "  Downloading protobuf-3.19.1-cp39-cp39-manylinux_2_17_x86_64.manylinux2014_x86_64.whl (1.1 MB)\n",
      "     |████████████████████████████████| 1.1 MB 31.3 MB/s            \n",
      "\u001b[?25hCollecting grpcio>=1.24.3\n",
      "  Downloading grpcio-1.43.0-cp39-cp39-manylinux_2_17_x86_64.manylinux2014_x86_64.whl (4.1 MB)\n",
      "     |████████████████████████████████| 4.1 MB 39.1 MB/s            \n",
      "\u001b[?25hCollecting requests<3,>=2.21.0\n",
      "  Downloading requests-2.26.0-py2.py3-none-any.whl (62 kB)\n",
      "     |████████████████████████████████| 62 kB 1.9 MB/s             \n",
      "\u001b[?25hRequirement already satisfied: wheel>=0.26 in /home/ec2-user/anaconda3/envs/mesh/lib/python3.9/site-packages (from tensorboard->detectron2==0.6) (0.37.1)\n",
      "Collecting tensorboard-data-server<0.7.0,>=0.6.0\n",
      "  Using cached tensorboard_data_server-0.6.1-py3-none-manylinux2010_x86_64.whl (4.9 MB)\n",
      "Collecting google-auth<3,>=1.6.3\n",
      "  Using cached google_auth-2.3.3-py2.py3-none-any.whl (155 kB)\n",
      "Requirement already satisfied: six in /home/ec2-user/anaconda3/envs/mesh/lib/python3.9/site-packages (from absl-py>=0.4->tensorboard->detectron2==0.6) (1.16.0)\n",
      "Collecting pyasn1-modules>=0.2.1\n",
      "  Using cached pyasn1_modules-0.2.8-py2.py3-none-any.whl (155 kB)\n",
      "Collecting rsa<5,>=3.1.4\n",
      "  Downloading rsa-4.8-py3-none-any.whl (39 kB)\n"
     ]
    },
    {
     "name": "stdout",
     "output_type": "stream",
     "text": [
      "Collecting cachetools<5.0,>=2.0.0\n",
      "  Using cached cachetools-4.2.4-py3-none-any.whl (10 kB)\n",
      "Collecting requests-oauthlib>=0.7.0\n",
      "  Using cached requests_oauthlib-1.3.0-py2.py3-none-any.whl (23 kB)\n",
      "Collecting importlib-metadata>=4.4\n",
      "  Downloading importlib_metadata-4.10.0-py3-none-any.whl (17 kB)\n",
      "Collecting idna<4,>=2.5\n",
      "  Downloading idna-3.3-py3-none-any.whl (61 kB)\n",
      "     |████████████████████████████████| 61 kB 15.1 MB/s            \n",
      "\u001b[?25hCollecting urllib3<1.27,>=1.21.1\n",
      "  Downloading urllib3-1.26.7-py2.py3-none-any.whl (138 kB)\n",
      "     |████████████████████████████████| 138 kB 63.4 MB/s            \n",
      "\u001b[?25hCollecting charset-normalizer~=2.0.0\n",
      "  Downloading charset_normalizer-2.0.9-py3-none-any.whl (39 kB)\n",
      "Collecting certifi>=2017.4.17\n",
      "  Downloading certifi-2021.10.8-py2.py3-none-any.whl (149 kB)\n",
      "     |████████████████████████████████| 149 kB 66.1 MB/s            \n",
      "\u001b[?25hCollecting zipp>=0.5\n",
      "  Downloading zipp-3.6.0-py3-none-any.whl (5.3 kB)\n",
      "Collecting pyasn1<0.5.0,>=0.4.6\n",
      "  Downloading pyasn1-0.4.8-py2.py3-none-any.whl (77 kB)\n",
      "     |████████████████████████████████| 77 kB 11.3 MB/s            \n",
      "\u001b[?25hCollecting oauthlib>=3.0.0\n",
      "  Using cached oauthlib-3.1.1-py2.py3-none-any.whl (146 kB)\n",
      "Building wheels for collected packages: fvcore, antlr4-python3-runtime, pycocotools, future\n",
      "  Building wheel for fvcore (setup.py) ... \u001b[?25ldone\n",
      "\u001b[?25h  Created wheel for fvcore: filename=fvcore-0.1.5.post20211023-py3-none-any.whl size=60944 sha256=630e29644cf35c802f3032226c1f7edec996924f7e2fd1088d7de5f35bf1e29a\n",
      "  Stored in directory: /home/ec2-user/.cache/pip/wheels/66/9b/ff/ea7cdc5923ebb9b09b17810059748c1772141fcb3f590b5c76\n",
      "  Building wheel for antlr4-python3-runtime (setup.py) ... \u001b[?25ldone\n",
      "\u001b[?25h  Created wheel for antlr4-python3-runtime: filename=antlr4_python3_runtime-4.8-py3-none-any.whl size=141230 sha256=0da01a5656dd617f55543450cb48ea9459c7780371a8af1e3f3c937003dabf94\n",
      "  Stored in directory: /home/ec2-user/.cache/pip/wheels/42/3c/ae/14db087e6018de74810afe32eb6ac890ef9c68ba19b00db97a\n",
      "  Building wheel for pycocotools (setup.py) ... \u001b[?25ldone\n",
      "\u001b[?25h  Created wheel for pycocotools: filename=pycocotools-2.0.3-cp39-cp39-linux_x86_64.whl size=279330 sha256=ee60737680830a1d1c4973d3fa9f19bac1bda40f907c04f9f3ca91ab41de0930\n",
      "  Stored in directory: /home/ec2-user/.cache/pip/wheels/fe/51/1b/d5486e09bbe91154f9570ce0ba722e5038b44a15972c7575cd\n",
      "  Building wheel for future (setup.py) ... \u001b[?25ldone\n",
      "\u001b[?25h  Created wheel for future: filename=future-0.18.2-py3-none-any.whl size=491070 sha256=a1af8e209ca01af413c5679f6170f67ede1842f811225b89f29b1a9a077d9fae\n",
      "  Stored in directory: /home/ec2-user/.cache/pip/wheels/2f/a0/d3/4030d9f80e6b3be787f19fc911b8e7aa462986a40ab1e4bb94\n",
      "Successfully built fvcore antlr4-python3-runtime pycocotools future\n",
      "Installing collected packages: urllib3, pyasn1, idna, charset-normalizer, certifi, zipp, rsa, requests, pyasn1-modules, oauthlib, cachetools, requests-oauthlib, importlib-metadata, google-auth, antlr4-python3-runtime, werkzeug, tensorboard-plugin-wit, tensorboard-data-server, regex, protobuf, pathspec, omegaconf, mypy-extensions, markdown, iopath, grpcio, google-auth-oauthlib, cython, click, appdirs, absl-py, tensorboard, pydot, pycocotools, hydra-core, fvcore, future, cloudpickle, black, detectron2\n",
      "  Attempting uninstall: fvcore\n",
      "    Found existing installation: fvcore 0.1.1.post20200716\n",
      "    Uninstalling fvcore-0.1.1.post20200716:\n",
      "      Successfully uninstalled fvcore-0.1.1.post20200716\n",
      "  Running setup.py develop for detectron2\n",
      "\u001b[31m    ERROR: Command errored out with exit status 1:\n",
      "     command: /home/ec2-user/anaconda3/envs/mesh/bin/python3.9 -c 'import io, os, sys, setuptools, tokenize; sys.argv[0] = '\"'\"'/home/ec2-user/GP/external/detectron2/setup.py'\"'\"'; __file__='\"'\"'/home/ec2-user/GP/external/detectron2/setup.py'\"'\"';f = getattr(tokenize, '\"'\"'open'\"'\"', open)(__file__) if os.path.exists(__file__) else io.StringIO('\"'\"'from setuptools import setup; setup()'\"'\"');code = f.read().replace('\"'\"'\\r\\n'\"'\"', '\"'\"'\\n'\"'\"');f.close();exec(compile(code, __file__, '\"'\"'exec'\"'\"'))' develop --no-deps\n",
      "         cwd: /home/ec2-user/GP/external/detectron2/\n",
      "    Complete output (48 lines):\n",
      "    running develop\n",
      "    /home/ec2-user/anaconda3/envs/mesh/lib/python3.9/site-packages/setuptools/command/easy_install.py:156: EasyInstallDeprecationWarning: easy_install command is deprecated. Use build and pip and other standards-based tools.\n",
      "      warnings.warn(\n",
      "    /home/ec2-user/anaconda3/envs/mesh/lib/python3.9/site-packages/setuptools/command/install.py:34: SetuptoolsDeprecationWarning: setup.py install is deprecated. Use build and pip and other standards-based tools.\n",
      "      warnings.warn(\n",
      "    running egg_info\n",
      "    creating detectron2.egg-info\n",
      "    writing manifest file 'detectron2.egg-info/SOURCES.txt'\n",
      "    /home/ec2-user/anaconda3/envs/mesh/lib/python3.9/site-packages/torch/utils/cpp_extension.py:381: UserWarning: Attempted to use ninja as the BuildExtension backend but we could not find ninja.. Falling back to using the slow distutils backend.\n",
      "      warnings.warn(msg.format('we could not find ninja.'))\n",
      "    writing manifest file 'detectron2.egg-info/SOURCES.txt'\n",
      "    running build_ext\n",
      "    Traceback (most recent call last):\n",
      "      File \"<string>\", line 1, in <module>\n",
      "      File \"/home/ec2-user/GP/external/detectron2/setup.py\", line 147, in <module>\n",
      "        setup(\n",
      "      File \"/home/ec2-user/anaconda3/envs/mesh/lib/python3.9/site-packages/setuptools/__init__.py\", line 153, in setup\n",
      "        return distutils.core.setup(**attrs)\n",
      "      File \"/home/ec2-user/anaconda3/envs/mesh/lib/python3.9/site-packages/setuptools/_distutils/core.py\", line 148, in setup\n",
      "        return run_commands(dist)\n",
      "      File \"/home/ec2-user/anaconda3/envs/mesh/lib/python3.9/site-packages/setuptools/_distutils/core.py\", line 163, in run_commands\n",
      "        dist.run_commands()\n",
      "      File \"/home/ec2-user/anaconda3/envs/mesh/lib/python3.9/site-packages/setuptools/_distutils/dist.py\", line 967, in run_commands\n",
      "        self.run_command(cmd)\n",
      "      File \"/home/ec2-user/anaconda3/envs/mesh/lib/python3.9/site-packages/setuptools/_distutils/dist.py\", line 986, in run_command\n",
      "        cmd_obj.run()\n",
      "      File \"/home/ec2-user/anaconda3/envs/mesh/lib/python3.9/site-packages/setuptools/command/develop.py\", line 34, in run\n",
      "        self.install_for_development()\n",
      "      File \"/home/ec2-user/anaconda3/envs/mesh/lib/python3.9/site-packages/setuptools/command/develop.py\", line 114, in install_for_development\n",
      "        self.run_command('build_ext')\n",
      "      File \"/home/ec2-user/anaconda3/envs/mesh/lib/python3.9/site-packages/setuptools/_distutils/cmd.py\", line 313, in run_command\n",
      "        self.distribution.run_command(command)\n",
      "      File \"/home/ec2-user/anaconda3/envs/mesh/lib/python3.9/site-packages/setuptools/_distutils/dist.py\", line 986, in run_command\n",
      "        cmd_obj.run()\n",
      "      File \"/home/ec2-user/anaconda3/envs/mesh/lib/python3.9/site-packages/setuptools/command/build_ext.py\", line 79, in run\n",
      "        _build_ext.run(self)\n",
      "      File \"/home/ec2-user/anaconda3/envs/mesh/lib/python3.9/site-packages/Cython/Distutils/old_build_ext.py\", line 186, in run\n",
      "        _build_ext.build_ext.run(self)\n",
      "      File \"/home/ec2-user/anaconda3/envs/mesh/lib/python3.9/site-packages/setuptools/_distutils/command/build_ext.py\", line 339, in run\n",
      "        self.build_extensions()\n",
      "      File \"/home/ec2-user/anaconda3/envs/mesh/lib/python3.9/site-packages/torch/utils/cpp_extension.py\", line 404, in build_extensions\n",
      "        self._check_cuda_version()\n",
      "      File \"/home/ec2-user/anaconda3/envs/mesh/lib/python3.9/site-packages/torch/utils/cpp_extension.py\", line 781, in _check_cuda_version\n",
      "        raise RuntimeError(CUDA_MISMATCH_MESSAGE.format(cuda_str_version, torch.version.cuda))\n",
      "    RuntimeError:\n",
      "    The detected CUDA version (10.0) mismatches the version that was used to compile\n",
      "    PyTorch (11.3). Please make sure to use the same CUDA versions.\n",
      "    \n",
      "    ----------------------------------------\u001b[0m\n",
      "\u001b[31mERROR: Command errored out with exit status 1: /home/ec2-user/anaconda3/envs/mesh/bin/python3.9 -c 'import io, os, sys, setuptools, tokenize; sys.argv[0] = '\"'\"'/home/ec2-user/GP/external/detectron2/setup.py'\"'\"'; __file__='\"'\"'/home/ec2-user/GP/external/detectron2/setup.py'\"'\"';f = getattr(tokenize, '\"'\"'open'\"'\"', open)(__file__) if os.path.exists(__file__) else io.StringIO('\"'\"'from setuptools import setup; setup()'\"'\"');code = f.read().replace('\"'\"'\\r\\n'\"'\"', '\"'\"'\\n'\"'\"');f.close();exec(compile(code, __file__, '\"'\"'exec'\"'\"'))' develop --no-deps Check the logs for full command output.\u001b[0m\n"
     ]
    }
   ],
   "source": [
    "\n",
    "!pip install pyyaml==5.1\n",
    "!mkdir -p external\n",
    "# clone the repo in order to access pre-defined configs in PointRend project\n",
    "!git clone --branch v0.6 https://github.com/facebookresearch/detectron2.git external/detectron2\n",
    "# install detectron2 from source\n",
    "!pip install -e external/detectron2\n",
    "# See https://detectron2.readthedocs.io/tutorials/install.html for other installation options"
   ]
  },
  {
   "cell_type": "code",
   "execution_count": null,
   "metadata": {
    "id": "IBxiMFUGLARV"
   },
   "outputs": [],
   "source": [
    "# # Install detectron2\n",
    "# !mkdir -p external\n",
    "# !git clone --branch v0.2.1 https://github.com/facebookresearch/detectron2.git external/detectron2\n",
    "# !pip install detectron2==0.2.1 -f https://dl.fbaipublicfiles.com/detectron2/wheels/cu101/torch1.4/index.html\n",
    "# # !pip install external/detectron2"
   ]
  },
  {
   "cell_type": "code",
   "execution_count": 7,
   "metadata": {
    "id": "p9CdGgkGLAN-"
   },
   "outputs": [
    {
     "name": "stdout",
     "output_type": "stream",
     "text": [
      "Cloning into 'external/frankmocap'...\n",
      "remote: Enumerating objects: 599, done.\u001b[K\n",
      "remote: Counting objects: 100% (168/168), done.\u001b[K\n",
      "remote: Compressing objects: 100% (95/95), done.\u001b[K\n",
      "remote: Total 599 (delta 93), reused 128 (delta 72), pack-reused 431\u001b[K\n",
      "Receiving objects: 100% (599/599), 282.17 KiB | 10.08 MiB/s, done.\n",
      "Resolving deltas: 100% (343/343), done.\n",
      "+ mkdir -p extra_data/body_module\n",
      "+ cd extra_data/body_module\n",
      "+ echo 'Downloading extra data from SPIN'\n",
      "Downloading extra data from SPIN\n",
      "+ wget http://visiondata.cis.upenn.edu/spin/data.tar.gz\n",
      "--2021-12-26 11:25:41--  http://visiondata.cis.upenn.edu/spin/data.tar.gz\n",
      "Resolving visiondata.cis.upenn.edu (visiondata.cis.upenn.edu)... 158.130.68.16\n",
      "Connecting to visiondata.cis.upenn.edu (visiondata.cis.upenn.edu)|158.130.68.16|:80... connected.\n",
      "HTTP request sent, awaiting response... 200 OK\n",
      "Length: 14960640 (14M) [application/x-gzip]\n",
      "Saving to: ‘data.tar.gz’\n",
      "\n",
      "100%[======================================>] 14,960,640  13.6MB/s   in 1.0s   \n",
      "\n",
      "2021-12-26 11:25:42 (13.6 MB/s) - ‘data.tar.gz’ saved [14960640/14960640]\n",
      "\n",
      "+ tar -xvf data.tar.gz\n",
      "data/\n",
      "data/J_regressor_h36m.npy\n",
      "data/cube_parts.npy\n",
      "data/train.h5\n",
      "data/vertex_texture.npy\n",
      "data/smpl_mean_params.npz\n",
      "data/J_regressor_extra.npy\n",
      "data/gmm_08.pkl\n",
      "+ rm data.tar.gz\n",
      "+ mv data data_from_spin\n",
      "+ echo 'Downloading pretrained model'\n",
      "Downloading pretrained model\n",
      "+ mkdir -p pretrained_weights\n",
      "+ cd pretrained_weights\n",
      "+ wget https://dl.fbaipublicfiles.com/eft/2020_05_31-00_50_43-best-51.749683916568756.pt\n",
      "--2021-12-26 11:25:42--  https://dl.fbaipublicfiles.com/eft/2020_05_31-00_50_43-best-51.749683916568756.pt\n",
      "Resolving dl.fbaipublicfiles.com (dl.fbaipublicfiles.com)... 104.22.74.142, 104.22.75.142, 172.67.9.4, ...\n",
      "Connecting to dl.fbaipublicfiles.com (dl.fbaipublicfiles.com)|104.22.74.142|:443... connected.\n",
      "HTTP request sent, awaiting response... 200 OK\n",
      "Length: 324056422 (309M) [application/octet-stream]\n",
      "Saving to: ‘2020_05_31-00_50_43-best-51.749683916568756.pt’\n",
      "\n",
      "100%[======================================>] 324,056,422 68.9MB/s   in 4.4s   \n",
      "\n",
      "2021-12-26 11:25:47 (69.6 MB/s) - ‘2020_05_31-00_50_43-best-51.749683916568756.pt’ saved [324056422/324056422]\n",
      "\n",
      "+ wget https://dl.fbaipublicfiles.com/eft/fairmocap_data/body_module/smplx-03-28-46060-w_spin_mlc3d_46582-2089_2020_03_28-21_56_16.pt\n",
      "--2021-12-26 11:25:47--  https://dl.fbaipublicfiles.com/eft/fairmocap_data/body_module/smplx-03-28-46060-w_spin_mlc3d_46582-2089_2020_03_28-21_56_16.pt\n",
      "Resolving dl.fbaipublicfiles.com (dl.fbaipublicfiles.com)... 172.67.9.4, 104.22.74.142, 104.22.75.142, ...\n",
      "Connecting to dl.fbaipublicfiles.com (dl.fbaipublicfiles.com)|172.67.9.4|:443... connected.\n",
      "HTTP request sent, awaiting response... 200 OK\n",
      "Length: 324056422 (309M) [application/octet-stream]\n",
      "Saving to: ‘smplx-03-28-46060-w_spin_mlc3d_46582-2089_2020_03_28-21_56_16.pt’\n",
      "\n",
      "100%[======================================>] 324,056,422 62.1MB/s   in 4.8s   \n",
      "\n",
      "2021-12-26 11:25:52 (64.2 MB/s) - ‘smplx-03-28-46060-w_spin_mlc3d_46582-2089_2020_03_28-21_56_16.pt’ saved [324056422/324056422]\n",
      "\n",
      "+ cd ..\n",
      "+ echo 'Downloading other data'\n",
      "Downloading other data\n",
      "+ wget https://dl.fbaipublicfiles.com/eft/fairmocap_data/body_module/J_regressor_extra_smplx.npy\n",
      "--2021-12-26 11:25:52--  https://dl.fbaipublicfiles.com/eft/fairmocap_data/body_module/J_regressor_extra_smplx.npy\n",
      "Resolving dl.fbaipublicfiles.com (dl.fbaipublicfiles.com)... 104.22.75.142, 172.67.9.4, 104.22.74.142, ...\n",
      "Connecting to dl.fbaipublicfiles.com (dl.fbaipublicfiles.com)|104.22.75.142|:443... connected.\n",
      "HTTP request sent, awaiting response... 200 OK\n",
      "Length: 754328 (737K) [application/octet-stream]\n",
      "Saving to: ‘J_regressor_extra_smplx.npy’\n",
      "\n",
      "100%[======================================>] 754,328     --.-K/s   in 0.04s   \n",
      "\n",
      "2021-12-26 11:25:52 (17.7 MB/s) - ‘J_regressor_extra_smplx.npy’ saved [754328/754328]\n",
      "\n",
      "+ echo Done\n",
      "Done\n",
      "--2021-12-26 11:25:52--  https://jasonyzhang.com/phosa_data/basicModel_neutral_lbs_10_207_0_v1.0.0.pkl\n",
      "Resolving jasonyzhang.com (jasonyzhang.com)... 172.67.132.216, 104.21.13.134, 2606:4700:3032::6815:d86, ...\n",
      "Connecting to jasonyzhang.com (jasonyzhang.com)|172.67.132.216|:443... connected.\n",
      "HTTP request sent, awaiting response... 200 OK\n",
      "Length: 39001280 (37M) [application/octet-stream]\n",
      "Saving to: ‘extra_data/smpl/basicModel_neutral_lbs_10_207_0_v1.0.0.pkl’\n",
      "\n",
      "100%[======================================>] 39,001,280   188MB/s   in 0.2s   \n",
      "\n",
      "2021-12-26 11:25:54 (188 MB/s) - ‘extra_data/smpl/basicModel_neutral_lbs_10_207_0_v1.0.0.pkl’ saved [39001280/39001280]\n",
      "\n"
     ]
    }
   ],
   "source": [
    "# Install bodymocap\n",
    "!mkdir -p external\n",
    "!git clone https://github.com/facebookresearch/frankmocap.git external/frankmocap\n",
    "!sh external/frankmocap/scripts/download_data_body_module.sh\n",
    "# We are hosting the SMPL model here for convenience. Please accept the license\n",
    "# agreement on the SMPL website: https://smpl.is.tue.mpg.de\n",
    "!wget -P extra_data/smpl https://jasonyzhang.com/phosa_data/basicModel_neutral_lbs_10_207_0_v1.0.0.pkl"
   ]
  },
  {
   "cell_type": "markdown",
   "metadata": {
    "id": "RCtUa3Jf9acz"
   },
   "source": [
    "### Step 6: Restart Runtime\n",
    "\n",
    "### Step 7: Run PHOSA\n"
   ]
  },
  {
   "cell_type": "code",
   "execution_count": 2,
   "metadata": {},
   "outputs": [
    {
     "ename": "ModuleNotFoundError",
     "evalue": "No module named 'torchvision'",
     "output_type": "error",
     "traceback": [
      "\u001b[0;31m---------------------------------------------------------------------------\u001b[0m",
      "\u001b[0;31mModuleNotFoundError\u001b[0m                       Traceback (most recent call last)",
      "\u001b[0;32m/tmp/ipykernel_3924/44864968.py\u001b[0m in \u001b[0;36m<module>\u001b[0;34m\u001b[0m\n\u001b[0;32m----> 1\u001b[0;31m \u001b[0;32mimport\u001b[0m \u001b[0mtorchvision\u001b[0m\u001b[0;34m\u001b[0m\u001b[0;34m\u001b[0m\u001b[0m\n\u001b[0m",
      "\u001b[0;31mModuleNotFoundError\u001b[0m: No module named 'torchvision'"
     ]
    }
   ],
   "source": [
    "import torchvision"
   ]
  },
  {
   "cell_type": "code",
   "execution_count": 1,
   "metadata": {
    "id": "qhOEHOOPixQh"
   },
   "outputs": [
    {
     "ename": "ModuleNotFoundError",
     "evalue": "No module named 'torch'",
     "output_type": "error",
     "traceback": [
      "\u001b[0;31m---------------------------------------------------------------------------\u001b[0m",
      "\u001b[0;31mModuleNotFoundError\u001b[0m                       Traceback (most recent call last)",
      "\u001b[0;32m/tmp/ipykernel_3924/4183100741.py\u001b[0m in \u001b[0;36m<module>\u001b[0;34m\u001b[0m\n\u001b[1;32m      3\u001b[0m \u001b[0;32mimport\u001b[0m \u001b[0mnumpy\u001b[0m \u001b[0;32mas\u001b[0m \u001b[0mnp\u001b[0m\u001b[0;34m\u001b[0m\u001b[0;34m\u001b[0m\u001b[0m\n\u001b[1;32m      4\u001b[0m \u001b[0;32mimport\u001b[0m \u001b[0mtqdm\u001b[0m\u001b[0;34m\u001b[0m\u001b[0;34m\u001b[0m\u001b[0m\n\u001b[0;32m----> 5\u001b[0;31m \u001b[0;32mimport\u001b[0m \u001b[0mtorch\u001b[0m\u001b[0;34m\u001b[0m\u001b[0;34m\u001b[0m\u001b[0m\n\u001b[0m\u001b[1;32m      6\u001b[0m \u001b[0;32mfrom\u001b[0m \u001b[0mPIL\u001b[0m \u001b[0;32mimport\u001b[0m \u001b[0mImage\u001b[0m\u001b[0;34m\u001b[0m\u001b[0;34m\u001b[0m\u001b[0m\n\u001b[1;32m      7\u001b[0m \u001b[0;34m\u001b[0m\u001b[0m\n",
      "\u001b[0;31mModuleNotFoundError\u001b[0m: No module named 'torch'"
     ]
    }
   ],
   "source": [
    "import cv2\n",
    "import matplotlib.pyplot as plt\n",
    "import numpy as np\n",
    "import tqdm\n",
    "import torch\n",
    "from PIL import Image\n",
    "\n",
    "import neural_renderer as nr\n",
    "from detectron2.data import MetadataCatalog\n",
    "from detectron2.structures import Boxes, BitMasks\n",
    "from detectron2.utils.visualizer import Visualizer as PointRendVisualizer\n",
    "\n",
    "from phosa.bodymocap import (\n",
    "    get_bodymocap_predictor,\n",
    "    process_mocap_predictions,\n",
    "    visualize_orthographic,\n",
    ")\n",
    "from phosa.global_opt import optimize_human_object, visualize_human_object\n",
    "from phosa.pointrend import get_pointrend_predictor\n",
    "from phosa.pose_optimization import find_optimal_poses\n",
    "from phosa.utils import bbox_xy_to_wh, center_vertices\n",
    "\n",
    "prop = torch.cuda.get_device_properties(0)\n",
    "print(f\"GPU: {prop.name}\")\n",
    "print(f\"VRAM: {prop.total_memory / 1e9:.1f}GB\")\n",
    "print(f\"CC: {prop.major}.{prop.minor}\")"
   ]
  },
  {
   "cell_type": "markdown",
   "metadata": {
    "id": "I5z-n1ZYCERS"
   },
   "source": [
    "## Loading Image"
   ]
  },
  {
   "cell_type": "code",
   "execution_count": null,
   "metadata": {
    "id": "GCrkDRnQjYU3"
   },
   "outputs": [],
   "source": [
    "!wget http://images.cocodataset.org/val2017/000000038829.jpg -q -O input.jpg\n",
    "image_pil = Image.open(\"input.jpg\")\n",
    "image = np.array(image_pil)\n",
    "image_pil"
   ]
  },
  {
   "cell_type": "markdown",
   "metadata": {
    "id": "e3O6WkLpCLbK"
   },
   "source": [
    "## Instance Segmentation Using PointRend\n",
    "\n",
    "Ref: Kirillov et al. PointRend: Image Segmentation as Rendering"
   ]
  },
  {
   "cell_type": "code",
   "execution_count": null,
   "metadata": {
    "id": "o-JMHBdJqIXN"
   },
   "outputs": [],
   "source": [
    "segmenter = get_pointrend_predictor()\n",
    "instances = segmenter(image)[\"instances\"]\n",
    "vis = PointRendVisualizer(image, metadata=MetadataCatalog.get(\"coco_2017_val\"))\n",
    "Image.fromarray(vis.draw_instance_predictions(instances.to(\"cpu\")).get_image())"
   ]
  },
  {
   "cell_type": "markdown",
   "metadata": {
    "id": "w2i7uP0uBtfu"
   },
   "source": [
    "## Human Estimation\n",
    "Ref: Joo et al. Exemplar Fine-Tuning for 3D Human Pose Fitting Towards In-the-Wild 3D Human Pose Estimation\n",
    "\n",
    "Rong et al. FrankMocap: Fast Monocular 3D Hand and Body Motion Capture by Regression and Integration\n"
   ]
  },
  {
   "cell_type": "code",
   "execution_count": null,
   "metadata": {
    "id": "m5AaiI-WqTVn"
   },
   "outputs": [],
   "source": [
    "is_person = (instances.pred_classes == 0)\n",
    "bboxes_person = (instances[is_person].pred_boxes.tensor.cpu().numpy())\n",
    "masks_person = instances[is_person].pred_masks\n",
    "human_predictor = get_bodymocap_predictor()\n",
    "# Expects bgr image\n",
    "mocap_predictions = human_predictor.regress(\n",
    "    img_original=image[..., ::-1], \n",
    "    body_bbox_list=bbox_xy_to_wh(bboxes_person),\n",
    ")\n",
    "human_parameters = process_mocap_predictions(\n",
    "    mocap_predictions=mocap_predictions,\n",
    "    bboxes=bboxes_person,\n",
    "    masks=masks_person,\n",
    "    image_size=max(image.shape)\n",
    ")\n",
    "#vis_image = visualize_orthographic(image, human_parameters)\n",
    "# If you don't see any mesh outputs, you may need to build NMR from source\n",
    "#Image.fromarray(vis_image)"
   ]
  },
  {
   "cell_type": "markdown",
   "metadata": {
    "id": "UtM5b6pLC42e"
   },
   "source": [
    "## Object Pose Estimation via Differentiable Renderer\n",
    "\n",
    "Ref: Kato et al. Neural 3D Mesh Renderer"
   ]
  },
  {
   "cell_type": "code",
   "execution_count": null,
   "metadata": {
    "id": "PANV-YZCqpPQ"
   },
   "outputs": [],
   "source": [
    "verts, faces = nr.load_obj(\"models/meshes/bicycle_01.obj\")\n",
    "verts, faces = center_vertices(verts, faces)"
   ]
  },
  {
   "cell_type": "code",
   "execution_count": null,
   "metadata": {
    "id": "Tv9E87DAqfBI"
   },
   "outputs": [],
   "source": [
    "# Increase these parameters if fit looks bad.\n",
    "num_iterations = 2\n",
    "num_initializations = 2000\n",
    "\n",
    "# Reduce batch size if your GPU runs out of memory.\n",
    "batch_size = 200\n",
    "\n",
    "object_parameters = find_optimal_poses(\n",
    "    instances, verts, faces, class_name=\"bicycle\", visualize=True, image=image,\n",
    "    num_iterations=num_iterations, num_initializations=num_initializations,\n",
    "    batch_size=batch_size,\n",
    ")"
   ]
  },
  {
   "cell_type": "markdown",
   "metadata": {
    "id": "4Ts5fVXiDF5T"
   },
   "source": [
    "## Joint Human and Object Optimization\n",
    "\n",
    "Ref: Zhang et al. Perceiving 3D Human-Object Spatial Arrangements from a Single Image in the Wild\n",
    "\n",
    "Note: Collision loss is not yet included."
   ]
  },
  {
   "cell_type": "code",
   "execution_count": null,
   "metadata": {
    "id": "BUwaNtAWrFSr"
   },
   "outputs": [],
   "source": [
    "model = optimize_human_object(\n",
    "    person_parameters=human_parameters,\n",
    "    object_parameters=object_parameters,\n",
    "    class_name=\"bicycle\",\n",
    "    num_iterations=100,\n",
    "    lr=2e-3,\n",
    ")"
   ]
  },
  {
   "cell_type": "code",
   "execution_count": null,
   "metadata": {
    "id": "-EedtHlZsiQQ"
   },
   "outputs": [],
   "source": [
    "rend, top = visualize_human_object(model, image)\n",
    "Image.fromarray(rend)"
   ]
  },
  {
   "cell_type": "code",
   "execution_count": null,
   "metadata": {
    "id": "07QB5SLtsjYU"
   },
   "outputs": [],
   "source": [
    "Image.fromarray(top)"
   ]
  },
  {
   "cell_type": "markdown",
   "metadata": {
    "id": "0t70Pi-YLk5A"
   },
   "source": [
    "##Note\n",
    "[Neural Renderer](https://stackoverflow.com/questions/65173409/building-wheel-for-neural-renderer-pytorch-setup-py-installing-multiperson)"
   ]
  },
  {
   "cell_type": "code",
   "execution_count": null,
   "metadata": {
    "id": "75WogpNyLo7s"
   },
   "outputs": [],
   "source": []
  }
 ],
 "metadata": {
  "accelerator": "GPU",
  "colab": {
   "collapsed_sections": [],
   "name": "Good_Mesh.ipynb",
   "provenance": []
  },
  "kernelspec": {
   "display_name": "Python 3 (ipykernel)",
   "language": "python",
   "name": "python3"
  },
  "language_info": {
   "codemirror_mode": {
    "name": "ipython",
    "version": 3
   },
   "file_extension": ".py",
   "mimetype": "text/x-python",
   "name": "python",
   "nbconvert_exporter": "python",
   "pygments_lexer": "ipython3",
   "version": "3.7.12"
  }
 },
 "nbformat": 4,
 "nbformat_minor": 4
}
