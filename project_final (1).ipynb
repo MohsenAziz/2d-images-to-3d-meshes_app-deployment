{
  "cells": [
    {
      "cell_type": "code",
      "execution_count": null,
      "metadata": {
        "id": "LyMwr7EfhFoQ"
      },
      "outputs": [],
      "source": [
        "!unzip external.zip"
      ]
    },
    {
      "cell_type": "code",
      "execution_count": null,
      "metadata": {
        "id": "-QqQgD26hFoR"
      },
      "outputs": [],
      "source": [
        "!pip install -f https://download.pytorch.org/whl/torch_stable.html torch===1.10.0+cu111 torchvision===0.11.1+cu111"
      ]
    },
    {
      "cell_type": "code",
      "execution_count": null,
      "metadata": {
        "id": "G2J14sOrhFoR"
      },
      "outputs": [],
      "source": [
        "!pip install -r requirements.txt"
      ]
    },
    {
      "cell_type": "code",
      "execution_count": null,
      "metadata": {
        "id": "U_3OHE3chFoS"
      },
      "outputs": [],
      "source": [
        "!pip install external/multiperson/neural_renderer"
      ]
    },
    {
      "cell_type": "code",
      "execution_count": null,
      "metadata": {
        "id": "-bTOpVN9hFoS"
      },
      "outputs": [],
      "source": [
        "!pip install pyyaml==5.1"
      ]
    },
    {
      "cell_type": "code",
      "execution_count": null,
      "metadata": {
        "id": "p71ENXnGhFoT"
      },
      "outputs": [],
      "source": [
        "!pip install -e external/detectron2"
      ]
    },
    {
      "cell_type": "code",
      "execution_count": null,
      "metadata": {
        "id": "nQO1VuB-hFoT"
      },
      "outputs": [],
      "source": [
        "!sh external/frankmocap/scripts/download_data_body_module.sh"
      ]
    },
    {
      "cell_type": "code",
      "source": [
        "!wget -P extra_data/smpl https://jasonyzhang.com/phosa_data/basicModel_neutral_lbs_10_207_0_v1.0.0.pkl"
      ],
      "metadata": {
        "id": "kn12uE02hGn-"
      },
      "execution_count": null,
      "outputs": []
    },
    {
      "cell_type": "code",
      "source": [
        "import os\n",
        "os.kill(os.getpid(), 9)"
      ],
      "metadata": {
        "id": "u8068w8rUXrx"
      },
      "execution_count": null,
      "outputs": []
    },
    {
      "cell_type": "code",
      "execution_count": null,
      "metadata": {
        "id": "wjl725PyhFoU"
      },
      "outputs": [],
      "source": [
        "import flask"
      ]
    },
    {
      "cell_type": "code",
      "execution_count": null,
      "metadata": {
        "id": "vlC4H6dbhFoU"
      },
      "outputs": [],
      "source": [
        "!set FLASK_APP=app.py"
      ]
    },
    {
      "cell_type": "code",
      "execution_count": null,
      "metadata": {
        "id": "rYJHbXyphFoV"
      },
      "outputs": [],
      "source": [
        "!flask run"
      ]
    },
    {
      "cell_type": "code",
      "execution_count": null,
      "metadata": {
        "id": "TnjqgV-shFoV"
      },
      "outputs": [],
      "source": [
        ""
      ]
    },
    {
      "cell_type": "code",
      "execution_count": null,
      "metadata": {
        "id": "ANBZOgzkhFoW"
      },
      "outputs": [],
      "source": [
        ""
      ]
    }
  ],
  "metadata": {
    "kernelspec": {
      "display_name": "Python 3",
      "language": "python",
      "name": "python3"
    },
    "language_info": {
      "codemirror_mode": {
        "name": "ipython",
        "version": 3
      },
      "file_extension": ".py",
      "mimetype": "text/x-python",
      "name": "python",
      "nbconvert_exporter": "python",
      "pygments_lexer": "ipython3",
      "version": "3.7.4"
    },
    "colab": {
      "name": "project_final.ipynb",
      "provenance": []
    }
  },
  "nbformat": 4,
  "nbformat_minor": 0
}